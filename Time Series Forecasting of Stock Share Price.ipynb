{
 "cells": [
  {
   "cell_type": "markdown",
   "id": "ca222ae7",
   "metadata": {},
   "source": [
    "## Importing the Libraries"
   ]
  },
  {
   "cell_type": "code",
   "execution_count": 1,
   "id": "eadf3773",
   "metadata": {},
   "outputs": [],
   "source": [
    "import numpy as np\n",
    "import pandas as pd\n",
    "import matplotlib.pyplot as plt\n",
    "import seaborn as sns\n",
    "from math import sqrt\n",
    "import statsmodels.api as sm\n",
    "import warnings\n",
    "warnings.filterwarnings(\"ignore\")\n",
    "\n",
    "# Seasonal Decomposition\n",
    "from statsmodels.tsa.seasonal import seasonal_decompose\n",
    "\n",
    "# Performance Metrics\n",
    "from sklearn.metrics import mean_absolute_error, mean_squared_error\n",
    "\n",
    "# Exponential Smoothening\n",
    "from statsmodels.tsa.holtwinters import SimpleExpSmoothing\n",
    "from statsmodels.tsa.holtwinters import ExponentialSmoothing\n",
    "\n",
    "# Autocorrelation\n",
    "from statsmodels.stats.stattools import durbin_watson\n",
    "\n",
    "# ACF and PACF\n",
    "from statsmodels.graphics.tsaplots import plot_acf\n",
    "from statsmodels.graphics.tsaplots import plot_pacf\n",
    "\n",
    "# Model Building\n",
    "## Auto Regression\n",
    "from statsmodels.tsa.ar_model import AutoReg\n",
    "from statsmodels.tsa.arima.model import ARIMA\n",
    "from pmdarima.arima import auto_arima"
   ]
  },
  {
   "cell_type": "markdown",
   "id": "272dd4d5",
   "metadata": {},
   "source": [
    "## Importing Dataset"
   ]
  },
  {
   "cell_type": "code",
   "execution_count": 2,
   "id": "085137ff",
   "metadata": {},
   "outputs": [
    {
     "data": {
      "text/html": [
       "<div>\n",
       "<style scoped>\n",
       "    .dataframe tbody tr th:only-of-type {\n",
       "        vertical-align: middle;\n",
       "    }\n",
       "\n",
       "    .dataframe tbody tr th {\n",
       "        vertical-align: top;\n",
       "    }\n",
       "\n",
       "    .dataframe thead th {\n",
       "        text-align: right;\n",
       "    }\n",
       "</style>\n",
       "<table border=\"1\" class=\"dataframe\">\n",
       "  <thead>\n",
       "    <tr style=\"text-align: right;\">\n",
       "      <th></th>\n",
       "      <th>Date</th>\n",
       "      <th>Open</th>\n",
       "      <th>High</th>\n",
       "      <th>Low</th>\n",
       "      <th>Close</th>\n",
       "      <th>Adj Close</th>\n",
       "      <th>Volume</th>\n",
       "    </tr>\n",
       "  </thead>\n",
       "  <tbody>\n",
       "    <tr>\n",
       "      <th>0</th>\n",
       "      <td>19-08-2002</td>\n",
       "      <td>5.07</td>\n",
       "      <td>5.07</td>\n",
       "      <td>4.86</td>\n",
       "      <td>4.91</td>\n",
       "      <td>3.65</td>\n",
       "      <td>205880.0</td>\n",
       "    </tr>\n",
       "    <tr>\n",
       "      <th>1</th>\n",
       "      <td>28-10-2002</td>\n",
       "      <td>5.00</td>\n",
       "      <td>5.05</td>\n",
       "      <td>4.92</td>\n",
       "      <td>4.96</td>\n",
       "      <td>3.69</td>\n",
       "      <td>134504.0</td>\n",
       "    </tr>\n",
       "    <tr>\n",
       "      <th>2</th>\n",
       "      <td>29-10-2002</td>\n",
       "      <td>4.94</td>\n",
       "      <td>5.04</td>\n",
       "      <td>4.92</td>\n",
       "      <td>5.00</td>\n",
       "      <td>3.72</td>\n",
       "      <td>143024.0</td>\n",
       "    </tr>\n",
       "    <tr>\n",
       "      <th>3</th>\n",
       "      <td>16-08-2002</td>\n",
       "      <td>5.02</td>\n",
       "      <td>5.26</td>\n",
       "      <td>4.94</td>\n",
       "      <td>5.03</td>\n",
       "      <td>3.74</td>\n",
       "      <td>811856.0</td>\n",
       "    </tr>\n",
       "    <tr>\n",
       "      <th>4</th>\n",
       "      <td>25-10-2002</td>\n",
       "      <td>5.05</td>\n",
       "      <td>5.13</td>\n",
       "      <td>5.02</td>\n",
       "      <td>5.03</td>\n",
       "      <td>3.74</td>\n",
       "      <td>172296.0</td>\n",
       "    </tr>\n",
       "  </tbody>\n",
       "</table>\n",
       "</div>"
      ],
      "text/plain": [
       "         Date  Open  High   Low  Close  Adj Close    Volume\n",
       "0  19-08-2002  5.07  5.07  4.86   4.91       3.65  205880.0\n",
       "1  28-10-2002  5.00  5.05  4.92   4.96       3.69  134504.0\n",
       "2  29-10-2002  4.94  5.04  4.92   5.00       3.72  143024.0\n",
       "3  16-08-2002  5.02  5.26  4.94   5.03       3.74  811856.0\n",
       "4  25-10-2002  5.05  5.13  5.02   5.03       3.74  172296.0"
      ]
     },
     "execution_count": 2,
     "metadata": {},
     "output_type": "execute_result"
    }
   ],
   "source": [
    "#read data\n",
    "data = pd.read_csv(r'C:\\Users\\amarc\\Downloads\\Praxis\\2nd sem\\TSF\\ET\\TFdata.csv')\n",
    "data.head()"
   ]
  },
  {
   "cell_type": "code",
   "execution_count": 3,
   "id": "b05de003",
   "metadata": {},
   "outputs": [
    {
     "name": "stdout",
     "output_type": "stream",
     "text": [
      "<class 'pandas.core.frame.DataFrame'>\n",
      "RangeIndex: 4725 entries, 0 to 4724\n",
      "Data columns (total 7 columns):\n",
      " #   Column     Non-Null Count  Dtype  \n",
      "---  ------     --------------  -----  \n",
      " 0   Date       4709 non-null   object \n",
      " 1   Open       4709 non-null   float64\n",
      " 2   High       4709 non-null   float64\n",
      " 3   Low        4709 non-null   float64\n",
      " 4   Close      4709 non-null   float64\n",
      " 5   Adj Close  4709 non-null   float64\n",
      " 6   Volume     4709 non-null   float64\n",
      "dtypes: float64(6), object(1)\n",
      "memory usage: 258.5+ KB\n"
     ]
    }
   ],
   "source": [
    "#checking for null values\n",
    "data.info()"
   ]
  },
  {
   "cell_type": "code",
   "execution_count": 4,
   "id": "d5f97ace",
   "metadata": {},
   "outputs": [
    {
     "data": {
      "text/plain": [
       "Date         16\n",
       "Open         16\n",
       "High         16\n",
       "Low          16\n",
       "Close        16\n",
       "Adj Close    16\n",
       "Volume       16\n",
       "dtype: int64"
      ]
     },
     "execution_count": 4,
     "metadata": {},
     "output_type": "execute_result"
    }
   ],
   "source": [
    "#confirming absence of null values\n",
    "data.isnull().sum()"
   ]
  },
  {
   "cell_type": "code",
   "execution_count": 5,
   "id": "ba822a6a",
   "metadata": {},
   "outputs": [],
   "source": [
    "# imputing using the rolling average\n",
    "df = data.assign(close=data.Close.fillna(data.Close.rolling(24,min_periods=1,).mean()))"
   ]
  },
  {
   "cell_type": "code",
   "execution_count": 6,
   "id": "9ce38d6e",
   "metadata": {},
   "outputs": [
    {
     "data": {
      "text/plain": [
       "Date         16\n",
       "Open         16\n",
       "High         16\n",
       "Low          16\n",
       "Close        16\n",
       "Adj Close    16\n",
       "Volume       16\n",
       "close         0\n",
       "dtype: int64"
      ]
     },
     "execution_count": 6,
     "metadata": {},
     "output_type": "execute_result"
    }
   ],
   "source": [
    "df.isnull().sum()"
   ]
  },
  {
   "cell_type": "code",
   "execution_count": 7,
   "id": "f2b3fe24",
   "metadata": {},
   "outputs": [
    {
     "data": {
      "text/html": [
       "<div>\n",
       "<style scoped>\n",
       "    .dataframe tbody tr th:only-of-type {\n",
       "        vertical-align: middle;\n",
       "    }\n",
       "\n",
       "    .dataframe tbody tr th {\n",
       "        vertical-align: top;\n",
       "    }\n",
       "\n",
       "    .dataframe thead th {\n",
       "        text-align: right;\n",
       "    }\n",
       "</style>\n",
       "<table border=\"1\" class=\"dataframe\">\n",
       "  <thead>\n",
       "    <tr style=\"text-align: right;\">\n",
       "      <th></th>\n",
       "      <th>close</th>\n",
       "    </tr>\n",
       "  </thead>\n",
       "  <tbody>\n",
       "    <tr>\n",
       "      <th>0</th>\n",
       "      <td>4.910000</td>\n",
       "    </tr>\n",
       "    <tr>\n",
       "      <th>1</th>\n",
       "      <td>4.960000</td>\n",
       "    </tr>\n",
       "    <tr>\n",
       "      <th>2</th>\n",
       "      <td>5.000000</td>\n",
       "    </tr>\n",
       "    <tr>\n",
       "      <th>3</th>\n",
       "      <td>5.030000</td>\n",
       "    </tr>\n",
       "    <tr>\n",
       "      <th>4</th>\n",
       "      <td>5.030000</td>\n",
       "    </tr>\n",
       "    <tr>\n",
       "      <th>...</th>\n",
       "      <td>...</td>\n",
       "    </tr>\n",
       "    <tr>\n",
       "      <th>4720</th>\n",
       "      <td>461.409167</td>\n",
       "    </tr>\n",
       "    <tr>\n",
       "      <th>4721</th>\n",
       "      <td>461.750909</td>\n",
       "    </tr>\n",
       "    <tr>\n",
       "      <th>4722</th>\n",
       "      <td>462.043000</td>\n",
       "    </tr>\n",
       "    <tr>\n",
       "      <th>4723</th>\n",
       "      <td>462.393333</td>\n",
       "    </tr>\n",
       "    <tr>\n",
       "      <th>4724</th>\n",
       "      <td>462.775000</td>\n",
       "    </tr>\n",
       "  </tbody>\n",
       "</table>\n",
       "<p>4725 rows × 1 columns</p>\n",
       "</div>"
      ],
      "text/plain": [
       "           close\n",
       "0       4.910000\n",
       "1       4.960000\n",
       "2       5.000000\n",
       "3       5.030000\n",
       "4       5.030000\n",
       "...          ...\n",
       "4720  461.409167\n",
       "4721  461.750909\n",
       "4722  462.043000\n",
       "4723  462.393333\n",
       "4724  462.775000\n",
       "\n",
       "[4725 rows x 1 columns]"
      ]
     },
     "execution_count": 7,
     "metadata": {},
     "output_type": "execute_result"
    }
   ],
   "source": [
    "df = df.drop(['Date','Open','High','Low','Adj Close','Volume','Close'],axis=1)\n",
    "df"
   ]
  },
  {
   "cell_type": "code",
   "execution_count": 8,
   "id": "597d2314",
   "metadata": {},
   "outputs": [
    {
     "data": {
      "text/html": [
       "<div>\n",
       "<style scoped>\n",
       "    .dataframe tbody tr th:only-of-type {\n",
       "        vertical-align: middle;\n",
       "    }\n",
       "\n",
       "    .dataframe tbody tr th {\n",
       "        vertical-align: top;\n",
       "    }\n",
       "\n",
       "    .dataframe thead th {\n",
       "        text-align: right;\n",
       "    }\n",
       "</style>\n",
       "<table border=\"1\" class=\"dataframe\">\n",
       "  <thead>\n",
       "    <tr style=\"text-align: right;\">\n",
       "      <th></th>\n",
       "      <th>close</th>\n",
       "    </tr>\n",
       "  </thead>\n",
       "  <tbody>\n",
       "    <tr>\n",
       "      <th>0</th>\n",
       "      <td>4.910000</td>\n",
       "    </tr>\n",
       "    <tr>\n",
       "      <th>1</th>\n",
       "      <td>4.960000</td>\n",
       "    </tr>\n",
       "    <tr>\n",
       "      <th>2</th>\n",
       "      <td>5.000000</td>\n",
       "    </tr>\n",
       "    <tr>\n",
       "      <th>3</th>\n",
       "      <td>5.030000</td>\n",
       "    </tr>\n",
       "    <tr>\n",
       "      <th>4</th>\n",
       "      <td>5.030000</td>\n",
       "    </tr>\n",
       "    <tr>\n",
       "      <th>...</th>\n",
       "      <td>...</td>\n",
       "    </tr>\n",
       "    <tr>\n",
       "      <th>4720</th>\n",
       "      <td>461.409167</td>\n",
       "    </tr>\n",
       "    <tr>\n",
       "      <th>4721</th>\n",
       "      <td>461.750909</td>\n",
       "    </tr>\n",
       "    <tr>\n",
       "      <th>4722</th>\n",
       "      <td>462.043000</td>\n",
       "    </tr>\n",
       "    <tr>\n",
       "      <th>4723</th>\n",
       "      <td>462.393333</td>\n",
       "    </tr>\n",
       "    <tr>\n",
       "      <th>4724</th>\n",
       "      <td>462.775000</td>\n",
       "    </tr>\n",
       "  </tbody>\n",
       "</table>\n",
       "<p>4725 rows × 1 columns</p>\n",
       "</div>"
      ],
      "text/plain": [
       "           close\n",
       "0       4.910000\n",
       "1       4.960000\n",
       "2       5.000000\n",
       "3       5.030000\n",
       "4       5.030000\n",
       "...          ...\n",
       "4720  461.409167\n",
       "4721  461.750909\n",
       "4722  462.043000\n",
       "4723  462.393333\n",
       "4724  462.775000\n",
       "\n",
       "[4725 rows x 1 columns]"
      ]
     },
     "execution_count": 8,
     "metadata": {},
     "output_type": "execute_result"
    }
   ],
   "source": [
    "close = df[['close']]\n",
    "close"
   ]
  },
  {
   "cell_type": "code",
   "execution_count": 9,
   "id": "9a6c209b",
   "metadata": {},
   "outputs": [
    {
     "data": {
      "text/plain": [
       "close    0\n",
       "dtype: int64"
      ]
     },
     "execution_count": 9,
     "metadata": {},
     "output_type": "execute_result"
    }
   ],
   "source": [
    "#final check of null values\n",
    "close.isnull().sum()"
   ]
  },
  {
   "cell_type": "code",
   "execution_count": 10,
   "id": "dc22c847",
   "metadata": {},
   "outputs": [
    {
     "data": {
      "text/html": [
       "<div>\n",
       "<style scoped>\n",
       "    .dataframe tbody tr th:only-of-type {\n",
       "        vertical-align: middle;\n",
       "    }\n",
       "\n",
       "    .dataframe tbody tr th {\n",
       "        vertical-align: top;\n",
       "    }\n",
       "\n",
       "    .dataframe thead th {\n",
       "        text-align: right;\n",
       "    }\n",
       "</style>\n",
       "<table border=\"1\" class=\"dataframe\">\n",
       "  <thead>\n",
       "    <tr style=\"text-align: right;\">\n",
       "      <th></th>\n",
       "      <th>close</th>\n",
       "    </tr>\n",
       "  </thead>\n",
       "  <tbody>\n",
       "    <tr>\n",
       "      <th>count</th>\n",
       "      <td>4725.000000</td>\n",
       "    </tr>\n",
       "    <tr>\n",
       "      <th>mean</th>\n",
       "      <td>121.588604</td>\n",
       "    </tr>\n",
       "    <tr>\n",
       "      <th>std</th>\n",
       "      <td>112.314717</td>\n",
       "    </tr>\n",
       "    <tr>\n",
       "      <th>min</th>\n",
       "      <td>4.910000</td>\n",
       "    </tr>\n",
       "    <tr>\n",
       "      <th>25%</th>\n",
       "      <td>29.460000</td>\n",
       "    </tr>\n",
       "    <tr>\n",
       "      <th>50%</th>\n",
       "      <td>81.700000</td>\n",
       "    </tr>\n",
       "    <tr>\n",
       "      <th>75%</th>\n",
       "      <td>176.370000</td>\n",
       "    </tr>\n",
       "    <tr>\n",
       "      <th>max</th>\n",
       "      <td>467.610000</td>\n",
       "    </tr>\n",
       "  </tbody>\n",
       "</table>\n",
       "</div>"
      ],
      "text/plain": [
       "             close\n",
       "count  4725.000000\n",
       "mean    121.588604\n",
       "std     112.314717\n",
       "min       4.910000\n",
       "25%      29.460000\n",
       "50%      81.700000\n",
       "75%     176.370000\n",
       "max     467.610000"
      ]
     },
     "execution_count": 10,
     "metadata": {},
     "output_type": "execute_result"
    }
   ],
   "source": [
    "#Summary statistics of the data\n",
    "close.describe()"
   ]
  },
  {
   "cell_type": "code",
   "execution_count": 11,
   "id": "6d763c21",
   "metadata": {},
   "outputs": [
    {
     "data": {
      "text/html": [
       "<div>\n",
       "<style scoped>\n",
       "    .dataframe tbody tr th:only-of-type {\n",
       "        vertical-align: middle;\n",
       "    }\n",
       "\n",
       "    .dataframe tbody tr th {\n",
       "        vertical-align: top;\n",
       "    }\n",
       "\n",
       "    .dataframe thead th {\n",
       "        text-align: right;\n",
       "    }\n",
       "</style>\n",
       "<table border=\"1\" class=\"dataframe\">\n",
       "  <thead>\n",
       "    <tr style=\"text-align: right;\">\n",
       "      <th></th>\n",
       "      <th>close</th>\n",
       "    </tr>\n",
       "  </thead>\n",
       "  <tbody>\n",
       "    <tr>\n",
       "      <th>0</th>\n",
       "      <td>4.91</td>\n",
       "    </tr>\n",
       "    <tr>\n",
       "      <th>1</th>\n",
       "      <td>4.96</td>\n",
       "    </tr>\n",
       "    <tr>\n",
       "      <th>2</th>\n",
       "      <td>5.00</td>\n",
       "    </tr>\n",
       "    <tr>\n",
       "      <th>3</th>\n",
       "      <td>5.03</td>\n",
       "    </tr>\n",
       "    <tr>\n",
       "      <th>4</th>\n",
       "      <td>5.03</td>\n",
       "    </tr>\n",
       "  </tbody>\n",
       "</table>\n",
       "</div>"
      ],
      "text/plain": [
       "   close\n",
       "0   4.91\n",
       "1   4.96\n",
       "2   5.00\n",
       "3   5.03\n",
       "4   5.03"
      ]
     },
     "execution_count": 11,
     "metadata": {},
     "output_type": "execute_result"
    }
   ],
   "source": [
    "close.head()"
   ]
  },
  {
   "cell_type": "code",
   "execution_count": 12,
   "id": "33b66bf7",
   "metadata": {},
   "outputs": [
    {
     "data": {
      "text/html": [
       "<div>\n",
       "<style scoped>\n",
       "    .dataframe tbody tr th:only-of-type {\n",
       "        vertical-align: middle;\n",
       "    }\n",
       "\n",
       "    .dataframe tbody tr th {\n",
       "        vertical-align: top;\n",
       "    }\n",
       "\n",
       "    .dataframe thead th {\n",
       "        text-align: right;\n",
       "    }\n",
       "</style>\n",
       "<table border=\"1\" class=\"dataframe\">\n",
       "  <thead>\n",
       "    <tr style=\"text-align: right;\">\n",
       "      <th></th>\n",
       "      <th>close</th>\n",
       "    </tr>\n",
       "  </thead>\n",
       "  <tbody>\n",
       "    <tr>\n",
       "      <th>4720</th>\n",
       "      <td>461.409167</td>\n",
       "    </tr>\n",
       "    <tr>\n",
       "      <th>4721</th>\n",
       "      <td>461.750909</td>\n",
       "    </tr>\n",
       "    <tr>\n",
       "      <th>4722</th>\n",
       "      <td>462.043000</td>\n",
       "    </tr>\n",
       "    <tr>\n",
       "      <th>4723</th>\n",
       "      <td>462.393333</td>\n",
       "    </tr>\n",
       "    <tr>\n",
       "      <th>4724</th>\n",
       "      <td>462.775000</td>\n",
       "    </tr>\n",
       "  </tbody>\n",
       "</table>\n",
       "</div>"
      ],
      "text/plain": [
       "           close\n",
       "4720  461.409167\n",
       "4721  461.750909\n",
       "4722  462.043000\n",
       "4723  462.393333\n",
       "4724  462.775000"
      ]
     },
     "execution_count": 12,
     "metadata": {},
     "output_type": "execute_result"
    }
   ],
   "source": [
    "close.tail()"
   ]
  },
  {
   "cell_type": "markdown",
   "id": "7147e4ea",
   "metadata": {},
   "source": [
    "## 1 Line plot"
   ]
  },
  {
   "cell_type": "code",
   "execution_count": 13,
   "id": "27469f8d",
   "metadata": {},
   "outputs": [
    {
     "data": {
      "text/plain": [
       "<Axes: >"
      ]
     },
     "execution_count": 13,
     "metadata": {},
     "output_type": "execute_result"
    },
    {
     "data": {
      "image/png": "[encoded data removed]",
      "text/plain": [
       "<Figure size 640x480 with 1 Axes>"
      ]
     },
     "metadata": {},
     "output_type": "display_data"
    }
   ],
   "source": [
    "#visualization of time series data\n",
    "close.plot()"
   ]
  },
  {
   "cell_type": "code",
   "execution_count": 14,
   "id": "b9a3cdd5",
   "metadata": {},
   "outputs": [
    {
     "data": {
      "text/plain": [
       "<Axes: >"
      ]
     },
     "execution_count": 14,
     "metadata": {},
     "output_type": "execute_result"
    },
    {
     "data": {
      "image/png": "[encoded data removed]",
      "text/plain": [
       "<Figure size 640x480 with 1 Axes>"
      ]
     },
     "metadata": {},
     "output_type": "display_data"
    }
   ],
   "source": [
    "data['Close'].plot()"
   ]
  },
  {
   "cell_type": "markdown",
   "id": "8e3b6c22",
   "metadata": {},
   "source": [
    "This plot shows the variation in Closing price across the years\n",
    "\n",
    "1.Trend - There is a trend as can be seen in the plot the closing price is increasing"
   ]
  },
  {
   "cell_type": "markdown",
   "id": "c31c972d",
   "metadata": {},
   "source": [
    "## 2 Seasonal Decomposition"
   ]
  },
  {
   "cell_type": "markdown",
   "id": "3036ede5",
   "metadata": {},
   "source": [
    "### a.  Additive model"
   ]
  },
  {
   "cell_type": "code",
   "execution_count": 15,
   "id": "25926ea7",
   "metadata": {},
   "outputs": [
    {
     "data": {
      "image/png": "[encoded data removed]",
      "text/plain": [
       "<Figure size 640x480 with 4 Axes>"
      ]
     },
     "metadata": {},
     "output_type": "display_data"
    }
   ],
   "source": [
    "#decomposing trend, level, seasonality in data\n",
    "from statsmodels.tsa.seasonal import seasonal_decompose\n",
    "decomposition = seasonal_decompose(x=close,period=1,model='additive') #period of 1 year to check seasonality\n",
    "decomposition.plot()\n",
    "plt.show()"
   ]
  },
  {
   "cell_type": "markdown",
   "id": "099844b6",
   "metadata": {},
   "source": [
    "### b.Multiplicative model"
   ]
  },
  {
   "cell_type": "code",
   "execution_count": 16,
   "id": "b26405ef",
   "metadata": {},
   "outputs": [
    {
     "data": {
      "image/png": "[encoded data removed]",
      "text/plain": [
       "<Figure size 640x480 with 4 Axes>"
      ]
     },
     "metadata": {},
     "output_type": "display_data"
    }
   ],
   "source": [
    "#decomposing trend, level, seasonality in data\n",
    "decomposition = seasonal_decompose(x=close,period=14,model='additive')  #14 years of data\n",
    "decomposition.plot()\n",
    "plt.show()"
   ]
  },
  {
   "cell_type": "markdown",
   "id": "91e8979d",
   "metadata": {},
   "source": [
    "Seasonality is not observable\n",
    "\n",
    "Sice residulas in both additive and multiplicative model are centered around 0 so the data is not a additive or multiplicative model"
   ]
  },
  {
   "cell_type": "code",
   "execution_count": 17,
   "id": "d122a207",
   "metadata": {},
   "outputs": [
    {
     "name": "stdout",
     "output_type": "stream",
     "text": [
      "tset stat: 4.135364710524816\n",
      "p-value: 1.0\n",
      "Critical Values: {'1%': -3.4317444759563105, '5%': -2.862156198679841, '10%': -2.5670980048334617}\n"
     ]
    }
   ],
   "source": [
    "#confirming stationarity through Ad-Fuller test\n",
    "\n",
    "#Checking for stationarity with ADF test\n",
    "\n",
    "#ADF Test (left tail test on the DF distribution):\n",
    "#Null: Series is not stationary i.e. unit root exists\n",
    "#Alt: Series is stationary ie unit root does not exist\n",
    "\n",
    "from statsmodels.tsa.stattools import adfuller\n",
    "\n",
    "# Run test\n",
    "result = adfuller(close)\n",
    "# Print test statistic\n",
    "print('tset stat:',result[0])\n",
    "\n",
    "# Print p-value\n",
    "print('p-value:',result[1])\n",
    "\n",
    "# Print critical values for different significance levels\n",
    "print('Critical Values:',result[4]) \n"
   ]
  },
  {
   "cell_type": "code",
   "execution_count": 18,
   "id": "9a5623e1",
   "metadata": {},
   "outputs": [],
   "source": [
    "#Since p-value>0.05, we fail to reject the null that series is not stationary. We have to stationarize the series through differencing."
   ]
  },
  {
   "cell_type": "code",
   "execution_count": 19,
   "id": "ba104d2b",
   "metadata": {},
   "outputs": [
    {
     "data": {
      "image/png": "[encoded data removed]",
      "text/plain": [
       "<Figure size 640x480 with 1 Axes>"
      ]
     },
     "metadata": {},
     "output_type": "display_data"
    }
   ],
   "source": [
    "#Let's also check if there is autocorrelation in the non-stationary series \n",
    "import statsmodels.api as sm\n",
    "from statsmodels.graphics import tsaplots\n",
    "fig = tsaplots.plot_acf(close.close)\n",
    "plt.show()"
   ]
  },
  {
   "cell_type": "code",
   "execution_count": 20,
   "id": "74323afe",
   "metadata": {},
   "outputs": [
    {
     "data": {
      "image/png": "[encoded data removed]",
      "text/plain": [
       "<Figure size 640x480 with 1 Axes>"
      ]
     },
     "metadata": {},
     "output_type": "display_data"
    }
   ],
   "source": [
    "fig = tsaplots.plot_pacf(close.close)\n",
    "plt.show()"
   ]
  },
  {
   "cell_type": "code",
   "execution_count": 21,
   "id": "a115d1e4",
   "metadata": {},
   "outputs": [],
   "source": [
    "#The high ACF across lags but high PACF only from lags 1-3 show that the effects of the first and/or second time periods is carrying forward to the next time periods. The ACF clearly shows that the curren time period is autocorrelated only with the 1-4th time lags."
   ]
  },
  {
   "cell_type": "code",
   "execution_count": 22,
   "id": "3a725007",
   "metadata": {},
   "outputs": [],
   "source": [
    "#single-order differencing of the series\n",
    "close['Diff']=close.diff() "
   ]
  },
  {
   "cell_type": "code",
   "execution_count": 23,
   "id": "ad027b6f",
   "metadata": {},
   "outputs": [],
   "source": [
    "#dropping nan values\n",
    "close_diff=close.dropna()"
   ]
  },
  {
   "cell_type": "code",
   "execution_count": 24,
   "id": "11edb499",
   "metadata": {},
   "outputs": [
    {
     "data": {
      "text/html": [
       "<div>\n",
       "<style scoped>\n",
       "    .dataframe tbody tr th:only-of-type {\n",
       "        vertical-align: middle;\n",
       "    }\n",
       "\n",
       "    .dataframe tbody tr th {\n",
       "        vertical-align: top;\n",
       "    }\n",
       "\n",
       "    .dataframe thead th {\n",
       "        text-align: right;\n",
       "    }\n",
       "</style>\n",
       "<table border=\"1\" class=\"dataframe\">\n",
       "  <thead>\n",
       "    <tr style=\"text-align: right;\">\n",
       "      <th></th>\n",
       "      <th>close</th>\n",
       "      <th>Diff</th>\n",
       "    </tr>\n",
       "  </thead>\n",
       "  <tbody>\n",
       "    <tr>\n",
       "      <th>1</th>\n",
       "      <td>4.960000</td>\n",
       "      <td>0.050000</td>\n",
       "    </tr>\n",
       "    <tr>\n",
       "      <th>2</th>\n",
       "      <td>5.000000</td>\n",
       "      <td>0.040000</td>\n",
       "    </tr>\n",
       "    <tr>\n",
       "      <th>3</th>\n",
       "      <td>5.030000</td>\n",
       "      <td>0.030000</td>\n",
       "    </tr>\n",
       "    <tr>\n",
       "      <th>4</th>\n",
       "      <td>5.030000</td>\n",
       "      <td>0.000000</td>\n",
       "    </tr>\n",
       "    <tr>\n",
       "      <th>5</th>\n",
       "      <td>5.040000</td>\n",
       "      <td>0.010000</td>\n",
       "    </tr>\n",
       "    <tr>\n",
       "      <th>...</th>\n",
       "      <td>...</td>\n",
       "      <td>...</td>\n",
       "    </tr>\n",
       "    <tr>\n",
       "      <th>4720</th>\n",
       "      <td>461.409167</td>\n",
       "      <td>0.349936</td>\n",
       "    </tr>\n",
       "    <tr>\n",
       "      <th>4721</th>\n",
       "      <td>461.750909</td>\n",
       "      <td>0.341742</td>\n",
       "    </tr>\n",
       "    <tr>\n",
       "      <th>4722</th>\n",
       "      <td>462.043000</td>\n",
       "      <td>0.292091</td>\n",
       "    </tr>\n",
       "    <tr>\n",
       "      <th>4723</th>\n",
       "      <td>462.393333</td>\n",
       "      <td>0.350333</td>\n",
       "    </tr>\n",
       "    <tr>\n",
       "      <th>4724</th>\n",
       "      <td>462.775000</td>\n",
       "      <td>0.381667</td>\n",
       "    </tr>\n",
       "  </tbody>\n",
       "</table>\n",
       "<p>4724 rows × 2 columns</p>\n",
       "</div>"
      ],
      "text/plain": [
       "           close      Diff\n",
       "1       4.960000  0.050000\n",
       "2       5.000000  0.040000\n",
       "3       5.030000  0.030000\n",
       "4       5.030000  0.000000\n",
       "5       5.040000  0.010000\n",
       "...          ...       ...\n",
       "4720  461.409167  0.349936\n",
       "4721  461.750909  0.341742\n",
       "4722  462.043000  0.292091\n",
       "4723  462.393333  0.350333\n",
       "4724  462.775000  0.381667\n",
       "\n",
       "[4724 rows x 2 columns]"
      ]
     },
     "execution_count": 24,
     "metadata": {},
     "output_type": "execute_result"
    }
   ],
   "source": [
    "close_diff"
   ]
  },
  {
   "cell_type": "code",
   "execution_count": 25,
   "id": "cd29422f",
   "metadata": {},
   "outputs": [
    {
     "data": {
      "text/plain": [
       "<Axes: >"
      ]
     },
     "execution_count": 25,
     "metadata": {},
     "output_type": "execute_result"
    },
    {
     "data": {
      "image/png": "[encoded data removed]",
      "text/plain": [
       "<Figure size 640x480 with 1 Axes>"
      ]
     },
     "metadata": {},
     "output_type": "display_data"
    }
   ],
   "source": [
    "close_diff.plot() #the series now looks stationary but let's confirm with the Ad-fuller test"
   ]
  },
  {
   "cell_type": "code",
   "execution_count": 26,
   "id": "97b782c0",
   "metadata": {},
   "outputs": [
    {
     "name": "stdout",
     "output_type": "stream",
     "text": [
      "-6.537862282550862\n",
      "9.508678296387215e-09\n",
      "{'1%': -3.4317444759563105, '5%': -2.862156198679841, '10%': -2.5670980048334617}\n"
     ]
    }
   ],
   "source": [
    "# Run test\n",
    "result = adfuller(close_diff['Diff'])\n",
    "# Print test statistic\n",
    "print(result[0])\n",
    "\n",
    "# Print p-value\n",
    "print(result[1])\n",
    "\n",
    "# Print critical values for different significance levels\n",
    "print(result[4]) "
   ]
  },
  {
   "cell_type": "code",
   "execution_count": 27,
   "id": "ab787d4f",
   "metadata": {},
   "outputs": [],
   "source": [
    "#Since pvalue<0.05, we can now reject the null hypothesis that the series is not stationary. We have sufficient evidence to say that the series is not non-stationary."
   ]
  },
  {
   "cell_type": "code",
   "execution_count": 28,
   "id": "3db7f57b",
   "metadata": {},
   "outputs": [
    {
     "data": {
      "image/png": "[encoded data removed]",
      "text/plain": [
       "<Figure size 640x480 with 1 Axes>"
      ]
     },
     "metadata": {},
     "output_type": "display_data"
    }
   ],
   "source": [
    "#Let's check the new ACF,PACF plots of the differenced,stationary data\n",
    "fig = tsaplots.plot_acf(close_diff['Diff'])\n",
    "plt.show()\n",
    "\n"
   ]
  },
  {
   "cell_type": "code",
   "execution_count": 29,
   "id": "c7b9cb1e",
   "metadata": {},
   "outputs": [
    {
     "data": {
      "image/png": "[encoded data removed]",
      "text/plain": [
       "<Figure size 640x480 with 1 Axes>"
      ]
     },
     "metadata": {},
     "output_type": "display_data"
    }
   ],
   "source": [
    "fig = tsaplots.plot_pacf(close_diff['Diff'],method='OLS')\n",
    "plt.show()"
   ]
  },
  {
   "cell_type": "code",
   "execution_count": 30,
   "id": "d69f03fb",
   "metadata": {},
   "outputs": [],
   "source": [
    "#There is a  cutoff in the ACF plot of the differenced  series, which indicates an MA model of order 1.\n"
   ]
  },
  {
   "cell_type": "markdown",
   "id": "4fd3dcf7",
   "metadata": {},
   "source": [
    "## 3 Train-test split"
   ]
  },
  {
   "cell_type": "code",
   "execution_count": 31,
   "id": "33e69b1e",
   "metadata": {},
   "outputs": [],
   "source": [
    "#train-test split to make forecasts and find errors \n",
    "train=pd.DataFrame(close['close'][0:4544])\n",
    "test=pd.DataFrame(close['close'][4544:4724])\n",
    "y_hat = test.copy() # Just not to spoil the main test file"
   ]
  },
  {
   "cell_type": "markdown",
   "id": "ebb1599f",
   "metadata": {},
   "source": [
    "## 4 Heuristic Models"
   ]
  },
  {
   "cell_type": "code",
   "execution_count": 32,
   "id": "6c6810d9",
   "metadata": {},
   "outputs": [],
   "source": [
    "df_models = pd.DataFrame(columns = [\"Model Number\", \"Model Name\", \"MSE\", \n",
    "                                    'MAPE', 'RMSE', 'MAE'])"
   ]
  },
  {
   "cell_type": "markdown",
   "id": "536bf67f",
   "metadata": {},
   "source": [
    "### 1 Naive Forecast"
   ]
  },
  {
   "cell_type": "code",
   "execution_count": 33,
   "id": "0d3800cb",
   "metadata": {},
   "outputs": [],
   "source": [
    "temp = np.asarray(train.close)\n",
    "y_hat['naive'] = temp[len(temp)-1]"
   ]
  },
  {
   "cell_type": "code",
   "execution_count": 34,
   "id": "a57b2521",
   "metadata": {},
   "outputs": [
    {
     "data": {
      "image/png": "[encoded data removed]",
      "text/plain": [
       "<Figure size 800x700 with 1 Axes>"
      ]
     },
     "metadata": {},
     "output_type": "display_data"
    }
   ],
   "source": [
    "plt.figure(figsize=(8,7))\n",
    "plt.plot(train.index, train['close'], label='Train')\n",
    "plt.plot(test.index,test['close'], label='Test')\n",
    "plt.plot(y_hat.index,y_hat['naive'], label='Naive Forecast')\n",
    "plt.legend(loc='best')\n",
    "plt.title(\"Naive Forecast\")\n",
    "plt.show()"
   ]
  },
  {
   "cell_type": "code",
   "execution_count": 35,
   "id": "c4d457e5",
   "metadata": {},
   "outputs": [],
   "source": [
    "mse = mean_squared_error(test.close, y_hat.naive)\n",
    "mape = np.mean(np.abs((test.close - y_hat.naive) / y_hat.naive)) * 100\n",
    "rmse = sqrt(mean_squared_error(test.close, y_hat.naive))\n",
    "mae= mean_absolute_error(test.close, y_hat.naive)\n",
    "df_models = df_models.append({\"Model Number\":1, \"Model Name\":'Naive Forecast', 'MSE':mse, \n",
    "                              'MAPE':mape, 'RMSE':rmse, 'MAE':mae}, ignore_index=True)"
   ]
  },
  {
   "cell_type": "markdown",
   "id": "f1fb5f3c",
   "metadata": {},
   "source": [
    "### 2 Simple Average"
   ]
  },
  {
   "cell_type": "code",
   "execution_count": 36,
   "id": "29c7cfa3",
   "metadata": {},
   "outputs": [],
   "source": [
    "y_hat['avg_forecast'] = train['close'].mean()"
   ]
  },
  {
   "cell_type": "code",
   "execution_count": 37,
   "id": "c8a0c84c",
   "metadata": {},
   "outputs": [
    {
     "data": {
      "image/png": "[encoded data removed]",
      "text/plain": [
       "<Figure size 800x700 with 1 Axes>"
      ]
     },
     "metadata": {},
     "output_type": "display_data"
    }
   ],
   "source": [
    "plt.figure(figsize=(8,7))\n",
    "plt.plot(train.index, train['close'], label='Train')\n",
    "plt.plot(test.index,test['close'], label='Test')\n",
    "plt.plot(y_hat.index,y_hat['avg_forecast'], label='avg_forecast')\n",
    "plt.legend(loc='best')\n",
    "plt.title(\"avg_forecast\")\n",
    "plt.show()"
   ]
  },
  {
   "cell_type": "code",
   "execution_count": 38,
   "id": "4778c300",
   "metadata": {},
   "outputs": [],
   "source": [
    "mse = mean_squared_error(test.close, y_hat.avg_forecast)\n",
    "mape = np.mean(np.abs((test.close - y_hat.avg_forecast) / y_hat.avg_forecast)) * 100\n",
    "rmse = sqrt(mean_squared_error(test.close, y_hat.avg_forecast))\n",
    "mae= mean_absolute_error(test.close, y_hat.avg_forecast)\n",
    "df_models = df_models.append({\"Model Number\":2, \"Model Name\":'Average Forecast', 'MSE':mse, \n",
    "                              'MAPE':mape, 'RMSE':rmse, 'MAE':mae}, ignore_index=True)"
   ]
  },
  {
   "cell_type": "markdown",
   "id": "d2e0d313",
   "metadata": {},
   "source": [
    "### 3 Simple Moving Average"
   ]
  },
  {
   "cell_type": "code",
   "execution_count": 39,
   "id": "56fe9de3",
   "metadata": {},
   "outputs": [],
   "source": [
    "y_hat_sma = close.copy()\n",
    "y_hat_sma['sma_forecast'] = close['close'].rolling(3).mean()\n",
    "y_hat_sma['sma_forecast'][len(train):] = y_hat_sma['sma_forecast'][len(train)-1]"
   ]
  },
  {
   "cell_type": "code",
   "execution_count": 40,
   "id": "c4bece97",
   "metadata": {},
   "outputs": [
    {
     "data": {
      "image/png": "[encoded data removed]",
      "text/plain": [
       "<Figure size 1200x400 with 1 Axes>"
      ]
     },
     "metadata": {},
     "output_type": "display_data"
    }
   ],
   "source": [
    "plt.figure(figsize=(12,4))\n",
    "plt.plot(train['close'], label='Train')\n",
    "plt.plot(test['close'], label='test')\n",
    "plt.plot(y_hat_sma['sma_forecast'], label='Simple moving average forecast')\n",
    "plt.legend(loc='best')\n",
    "plt.show()"
   ]
  },
  {
   "cell_type": "code",
   "execution_count": 41,
   "id": "a982e880",
   "metadata": {},
   "outputs": [
    {
     "data": {
      "text/plain": [
       "4725"
      ]
     },
     "execution_count": 41,
     "metadata": {},
     "output_type": "execute_result"
    }
   ],
   "source": [
    "len(y_hat_sma)"
   ]
  },
  {
   "cell_type": "code",
   "execution_count": 42,
   "id": "82a3410e",
   "metadata": {},
   "outputs": [],
   "source": [
    "# mse = mean_squared_error(test.close, y_hat_sma['sma_forecast'][len(train):])\n",
    "# mape = np.mean(np.abs((test.close - y_hat_sma['sma_forecast'][len(train):]) / y_hat_sma['sma_forecast'][len(train):])) * 100\n",
    "# rmse = sqrt(mean_squared_error(test.close, y_hat_sma['sma_forecast'][len(train):]))\n",
    "# mae= mean_absolute_error(test.close, y_hat_sma['sma_forecast'][len(train):])\n",
    "# df_models = df_models.append({\"Model Number\":3, \"Model Name\":'SMA Forecast', 'MSE':mse, \n",
    "#                               'MAPE':mape, 'RMSE':rmse, 'MAE':mae}, ignore_index=True)"
   ]
  },
  {
   "cell_type": "markdown",
   "id": "76f0d3cc",
   "metadata": {},
   "source": [
    "## Exponential Smoothing"
   ]
  },
  {
   "cell_type": "markdown",
   "id": "b2785544",
   "metadata": {},
   "source": [
    "### 1 Simple Exponential Smoothing"
   ]
  },
  {
   "cell_type": "code",
   "execution_count": 43,
   "id": "f9573498",
   "metadata": {},
   "outputs": [
    {
     "data": {
      "text/plain": [
       "{'smoothing_level': 0.2,\n",
       " 'smoothing_trend': None,\n",
       " 'smoothing_seasonal': None,\n",
       " 'damping_trend': nan,\n",
       " 'initial_level': 4.91,\n",
       " 'initial_trend': nan,\n",
       " 'initial_seasons': array([], dtype=float64),\n",
       " 'use_boxcox': False,\n",
       " 'lamda': None,\n",
       " 'remove_bias': False}"
      ]
     },
     "execution_count": 43,
     "metadata": {},
     "output_type": "execute_result"
    }
   ],
   "source": [
    "# Instantiate the model\n",
    "model = SimpleExpSmoothing(train['close'])\n",
    "# Fit the model with alpha = 0.2 \n",
    "# optimized = False means, we are explicitly definign the smoothing_level.\n",
    "# optimized = True means - Automitacially it will define a smoothing_level based on RMSE\n",
    "model_fit = model.fit(smoothing_level = 0.2, optimized=False)\n",
    "model_fit.params"
   ]
  },
  {
   "cell_type": "markdown",
   "id": "bda5e4c6",
   "metadata": {},
   "source": [
    "Optimal alpha=0.2\n",
    "\n",
    "We gat an optimum forecasted line."
   ]
  },
  {
   "cell_type": "code",
   "execution_count": 44,
   "id": "90faa55d",
   "metadata": {},
   "outputs": [],
   "source": [
    "y_hat_ses = test.copy()\n",
    "# Forecast for 6 months\n",
    "y_hat_ses['ses_forecast'] = model_fit.forecast(len(y_hat_ses))"
   ]
  },
  {
   "cell_type": "code",
   "execution_count": 45,
   "id": "07c59e75",
   "metadata": {},
   "outputs": [
    {
     "data": {
      "image/png": "[encoded data removed]",
      "text/plain": [
       "<Figure size 1200x400 with 1 Axes>"
      ]
     },
     "metadata": {},
     "output_type": "display_data"
    }
   ],
   "source": [
    "plt.figure(figsize=(12,4))\n",
    "plt.plot(train['close'], label='Train')\n",
    "plt.plot(test['close'], label='test')\n",
    "plt.plot(y_hat_ses['ses_forecast'], label='Simple exponential smoothing forcast')\n",
    "plt.legend(loc='best')\n",
    "plt.show()"
   ]
  },
  {
   "cell_type": "code",
   "execution_count": 46,
   "id": "7eda9d48",
   "metadata": {},
   "outputs": [],
   "source": [
    "mse = mean_squared_error(test.close, y_hat_ses['ses_forecast'])\n",
    "mape = np.mean(np.abs((test.close - y_hat_ses['ses_forecast']) / y_hat_ses['ses_forecast'])) * 100\n",
    "rmse = sqrt(mean_squared_error(test.close, y_hat_ses['ses_forecast']))\n",
    "mae= mean_absolute_error(test.close, y_hat_ses['ses_forecast'])\n",
    "df_models = df_models.append({\"Model Number\":3, \"Model Name\":'Simple Exponential Smootheing', 'MSE':mse, \n",
    "                              'MAPE':mape, 'RMSE':rmse, 'MAE':mae}, ignore_index=True)"
   ]
  },
  {
   "cell_type": "code",
   "execution_count": 47,
   "id": "bfe1c3b1",
   "metadata": {},
   "outputs": [
    {
     "data": {
      "text/html": [
       "<div>\n",
       "<style scoped>\n",
       "    .dataframe tbody tr th:only-of-type {\n",
       "        vertical-align: middle;\n",
       "    }\n",
       "\n",
       "    .dataframe tbody tr th {\n",
       "        vertical-align: top;\n",
       "    }\n",
       "\n",
       "    .dataframe thead th {\n",
       "        text-align: right;\n",
       "    }\n",
       "</style>\n",
       "<table border=\"1\" class=\"dataframe\">\n",
       "  <thead>\n",
       "    <tr style=\"text-align: right;\">\n",
       "      <th></th>\n",
       "      <th>Model Number</th>\n",
       "      <th>Model Name</th>\n",
       "      <th>MSE</th>\n",
       "      <th>MAPE</th>\n",
       "      <th>RMSE</th>\n",
       "      <th>MAE</th>\n",
       "    </tr>\n",
       "  </thead>\n",
       "  <tbody>\n",
       "    <tr>\n",
       "      <th>0</th>\n",
       "      <td>1</td>\n",
       "      <td>Naive Forecast</td>\n",
       "      <td>2855.672195</td>\n",
       "      <td>12.893819</td>\n",
       "      <td>53.43849</td>\n",
       "      <td>49.654098</td>\n",
       "    </tr>\n",
       "    <tr>\n",
       "      <th>1</th>\n",
       "      <td>2</td>\n",
       "      <td>Average Forecast</td>\n",
       "      <td>106435.39675</td>\n",
       "      <td>298.461451</td>\n",
       "      <td>326.244382</td>\n",
       "      <td>325.645903</td>\n",
       "    </tr>\n",
       "    <tr>\n",
       "      <th>2</th>\n",
       "      <td>3</td>\n",
       "      <td>Simple Exponential Smootheing</td>\n",
       "      <td>3218.404535</td>\n",
       "      <td>13.937424</td>\n",
       "      <td>56.730984</td>\n",
       "      <td>53.181405</td>\n",
       "    </tr>\n",
       "  </tbody>\n",
       "</table>\n",
       "</div>"
      ],
      "text/plain": [
       "  Model Number                     Model Name           MSE        MAPE  \\\n",
       "0            1                 Naive Forecast   2855.672195   12.893819   \n",
       "1            2               Average Forecast  106435.39675  298.461451   \n",
       "2            3  Simple Exponential Smootheing   3218.404535   13.937424   \n",
       "\n",
       "         RMSE         MAE  \n",
       "0    53.43849   49.654098  \n",
       "1  326.244382  325.645903  \n",
       "2   56.730984   53.181405  "
      ]
     },
     "execution_count": 47,
     "metadata": {},
     "output_type": "execute_result"
    }
   ],
   "source": [
    "df_models"
   ]
  },
  {
   "cell_type": "markdown",
   "id": "12e7301c",
   "metadata": {},
   "source": [
    "### 2  Holt's Exponential Smoothening"
   ]
  },
  {
   "cell_type": "code",
   "execution_count": 48,
   "id": "63c7359c",
   "metadata": {},
   "outputs": [],
   "source": [
    "# We have to pass an array of the dataframe into the ExponentialSmoothing instance\n",
    "# We are using multiplicative trend because, from the time decomposition we know that it is multiplicative model.\n",
    "# seasonal=None Because we are not capturing seasonality in this model\n",
    "model = ExponentialSmoothing(np.asarray(train['close']), seasonal_periods = 12, trend='multiplicative', seasonal=None)"
   ]
  },
  {
   "cell_type": "code",
   "execution_count": 49,
   "id": "4606ea45",
   "metadata": {},
   "outputs": [
    {
     "data": {
      "text/plain": [
       "{'smoothing_level': 0.2,\n",
       " 'smoothing_trend': 0.01,\n",
       " 'smoothing_seasonal': None,\n",
       " 'damping_trend': nan,\n",
       " 'initial_level': 4.935333333333331,\n",
       " 'initial_trend': 1.003119128608795,\n",
       " 'initial_seasons': array([], dtype=float64),\n",
       " 'use_boxcox': False,\n",
       " 'lamda': None,\n",
       " 'remove_bias': False}"
      ]
     },
     "execution_count": 49,
     "metadata": {},
     "output_type": "execute_result"
    }
   ],
   "source": [
    "# smoothing_level. It is the level parameter (alpha)\n",
    "# smoothing_slope - It is the trend parameter (beta) \n",
    "model_fit = model.fit(smoothing_level = 0.2, smoothing_slope = 0.01, optimized=False)\n",
    "model_fit.params"
   ]
  },
  {
   "cell_type": "markdown",
   "id": "2ef0536e",
   "metadata": {},
   "source": [
    "smoothing_level: 0.2\n",
    "\n",
    "smoothing_trend: 0.01"
   ]
  },
  {
   "cell_type": "code",
   "execution_count": 50,
   "id": "a1695102",
   "metadata": {},
   "outputs": [],
   "source": [
    "y_hat_holt = test.copy()\n",
    "# We are forecasting for next 24 months\n",
    "y_hat_holt['holt_forecast'] = model_fit.forecast(len(y_hat_holt))"
   ]
  },
  {
   "cell_type": "code",
   "execution_count": 51,
   "id": "2a985eb6",
   "metadata": {},
   "outputs": [
    {
     "data": {
      "image/png": "[encoded data removed]",
      "text/plain": [
       "<Figure size 1200x400 with 1 Axes>"
      ]
     },
     "metadata": {},
     "output_type": "display_data"
    }
   ],
   "source": [
    "plt.figure(figsize=(12,4))\n",
    "plt.plot(train['close'], label='Train')\n",
    "plt.plot(test['close'], label='test')\n",
    "plt.plot(y_hat_holt['holt_forecast'], label='Holt\\'s exponential smoothing forcast')\n",
    "plt.legend(loc='best')\n",
    "plt.show()"
   ]
  },
  {
   "cell_type": "code",
   "execution_count": 52,
   "id": "ba6360ad",
   "metadata": {},
   "outputs": [],
   "source": [
    "mse = mean_squared_error(test.close, y_hat_holt['holt_forecast'])\n",
    "mape = np.mean(np.abs((test.close - y_hat_holt['holt_forecast']) / y_hat_holt['holt_forecast'])) * 100\n",
    "rmse = sqrt(mean_squared_error(test.close, y_hat_holt['holt_forecast']))\n",
    "mae= mean_absolute_error(test.close, y_hat_holt['holt_forecast'])\n",
    "df_models = df_models.append({\"Model Number\":4, \"Model Name\":'Holts Exponential Smootheing', 'MSE':mse, \n",
    "                              'MAPE':mape, 'RMSE':rmse, 'MAE':mae}, ignore_index=True)"
   ]
  },
  {
   "cell_type": "code",
   "execution_count": 53,
   "id": "d7c990bf",
   "metadata": {},
   "outputs": [
    {
     "data": {
      "text/html": [
       "<div>\n",
       "<style scoped>\n",
       "    .dataframe tbody tr th:only-of-type {\n",
       "        vertical-align: middle;\n",
       "    }\n",
       "\n",
       "    .dataframe tbody tr th {\n",
       "        vertical-align: top;\n",
       "    }\n",
       "\n",
       "    .dataframe thead th {\n",
       "        text-align: right;\n",
       "    }\n",
       "</style>\n",
       "<table border=\"1\" class=\"dataframe\">\n",
       "  <thead>\n",
       "    <tr style=\"text-align: right;\">\n",
       "      <th></th>\n",
       "      <th>Model Number</th>\n",
       "      <th>Model Name</th>\n",
       "      <th>MSE</th>\n",
       "      <th>MAPE</th>\n",
       "      <th>RMSE</th>\n",
       "      <th>MAE</th>\n",
       "    </tr>\n",
       "  </thead>\n",
       "  <tbody>\n",
       "    <tr>\n",
       "      <th>0</th>\n",
       "      <td>1</td>\n",
       "      <td>Naive Forecast</td>\n",
       "      <td>2855.672195</td>\n",
       "      <td>12.893819</td>\n",
       "      <td>53.43849</td>\n",
       "      <td>49.654098</td>\n",
       "    </tr>\n",
       "    <tr>\n",
       "      <th>1</th>\n",
       "      <td>2</td>\n",
       "      <td>Average Forecast</td>\n",
       "      <td>106435.39675</td>\n",
       "      <td>298.461451</td>\n",
       "      <td>326.244382</td>\n",
       "      <td>325.645903</td>\n",
       "    </tr>\n",
       "    <tr>\n",
       "      <th>2</th>\n",
       "      <td>3</td>\n",
       "      <td>Simple Exponential Smootheing</td>\n",
       "      <td>3218.404535</td>\n",
       "      <td>13.937424</td>\n",
       "      <td>56.730984</td>\n",
       "      <td>53.181405</td>\n",
       "    </tr>\n",
       "    <tr>\n",
       "      <th>3</th>\n",
       "      <td>4</td>\n",
       "      <td>Holts Exponential Smootheing</td>\n",
       "      <td>373.184496</td>\n",
       "      <td>3.340599</td>\n",
       "      <td>19.317984</td>\n",
       "      <td>15.415953</td>\n",
       "    </tr>\n",
       "  </tbody>\n",
       "</table>\n",
       "</div>"
      ],
      "text/plain": [
       "  Model Number                     Model Name           MSE        MAPE  \\\n",
       "0            1                 Naive Forecast   2855.672195   12.893819   \n",
       "1            2               Average Forecast  106435.39675  298.461451   \n",
       "2            3  Simple Exponential Smootheing   3218.404535   13.937424   \n",
       "3            4   Holts Exponential Smootheing    373.184496    3.340599   \n",
       "\n",
       "         RMSE         MAE  \n",
       "0    53.43849   49.654098  \n",
       "1  326.244382  325.645903  \n",
       "2   56.730984   53.181405  \n",
       "3   19.317984   15.415953  "
      ]
     },
     "execution_count": 53,
     "metadata": {},
     "output_type": "execute_result"
    }
   ],
   "source": [
    "df_models"
   ]
  },
  {
   "cell_type": "markdown",
   "id": "c3c1defc",
   "metadata": {},
   "source": [
    "### Triple Exponential Smoothing"
   ]
  },
  {
   "cell_type": "code",
   "execution_count": 54,
   "id": "3d90cc17",
   "metadata": {},
   "outputs": [
    {
     "data": {
      "text/plain": [
       "{'smoothing_level': 0.9999999850988387,\n",
       " 'smoothing_trend': 0.13008079584650448,\n",
       " 'smoothing_seasonal': 1.4589811286368877e-08,\n",
       " 'damping_trend': nan,\n",
       " 'initial_level': 6.694580120474535,\n",
       " 'initial_trend': 0.09815500280289782,\n",
       " 'initial_seasons': array([0.69216907, 0.69222522, 0.69245187, 0.6924959 , 0.69252237,\n",
       "        0.69244417, 0.69243846, 0.69243023, 0.69228961, 0.69211906,\n",
       "        0.69196021, 0.69206437]),\n",
       " 'use_boxcox': False,\n",
       " 'lamda': None,\n",
       " 'remove_bias': False}"
      ]
     },
     "execution_count": 54,
     "metadata": {},
     "output_type": "execute_result"
    }
   ],
   "source": [
    "y_hat_hwm = test.copy()\n",
    "\n",
    "# seasonal=mul for multiplicative method\n",
    "# trend='add' . We are not changing the trend. We are only chaning the seasonal from additive to multiplicative.\n",
    "model = ExponentialSmoothing(np.asarray(train['close']), seasonal_periods = 12, trend='add', seasonal='mul')\n",
    "model_fit = model.fit(optimized=True)\n",
    "model_fit.params"
   ]
  },
  {
   "cell_type": "code",
   "execution_count": 55,
   "id": "d9f086b0",
   "metadata": {},
   "outputs": [],
   "source": [
    "y_hat_hwm['hwm_forecast'] = model_fit.forecast(len(y_hat_hwm))"
   ]
  },
  {
   "cell_type": "code",
   "execution_count": 56,
   "id": "1d802d97",
   "metadata": {},
   "outputs": [
    {
     "data": {
      "image/png": "[encoded data removed]",
      "text/plain": [
       "<Figure size 1200x400 with 1 Axes>"
      ]
     },
     "metadata": {},
     "output_type": "display_data"
    }
   ],
   "source": [
    "plt.figure(figsize=(12,4))\n",
    "plt.plot(train['close'], label='Train')\n",
    "plt.plot(test['close'], label='test')\n",
    "plt.plot(y_hat_hwm['hwm_forecast'], label='Holt\\'s Winters multiplicative exponential smoothing forcast')\n",
    "plt.legend(loc='best')\n",
    "plt.show()"
   ]
  },
  {
   "cell_type": "code",
   "execution_count": 57,
   "id": "d658b9cb",
   "metadata": {},
   "outputs": [],
   "source": [
    "mse = mean_squared_error(test.close, y_hat_hwm['hwm_forecast'])\n",
    "mape = np.mean(np.abs((test.close - y_hat_hwm['hwm_forecast']) / y_hat_hwm['hwm_forecast'])) * 100\n",
    "rmse = sqrt(mean_squared_error(test.close, y_hat_hwm['hwm_forecast']))\n",
    "mae= mean_absolute_error(test.close, y_hat_hwm['hwm_forecast'])\n",
    "df_models = df_models.append({\"Model Number\":5, \"Model Name\":'Holts Winter Exponential Smootheing', 'MSE':mse, \n",
    "                              'MAPE':mape, 'RMSE':rmse, 'MAE':mae}, ignore_index=True)"
   ]
  },
  {
   "cell_type": "code",
   "execution_count": 58,
   "id": "fb7c5951",
   "metadata": {},
   "outputs": [
    {
     "data": {
      "text/html": [
       "<div>\n",
       "<style scoped>\n",
       "    .dataframe tbody tr th:only-of-type {\n",
       "        vertical-align: middle;\n",
       "    }\n",
       "\n",
       "    .dataframe tbody tr th {\n",
       "        vertical-align: top;\n",
       "    }\n",
       "\n",
       "    .dataframe thead th {\n",
       "        text-align: right;\n",
       "    }\n",
       "</style>\n",
       "<table border=\"1\" class=\"dataframe\">\n",
       "  <thead>\n",
       "    <tr style=\"text-align: right;\">\n",
       "      <th></th>\n",
       "      <th>Model Number</th>\n",
       "      <th>Model Name</th>\n",
       "      <th>MSE</th>\n",
       "      <th>MAPE</th>\n",
       "      <th>RMSE</th>\n",
       "      <th>MAE</th>\n",
       "    </tr>\n",
       "  </thead>\n",
       "  <tbody>\n",
       "    <tr>\n",
       "      <th>0</th>\n",
       "      <td>1</td>\n",
       "      <td>Naive Forecast</td>\n",
       "      <td>2855.672195</td>\n",
       "      <td>12.893819</td>\n",
       "      <td>53.43849</td>\n",
       "      <td>49.654098</td>\n",
       "    </tr>\n",
       "    <tr>\n",
       "      <th>1</th>\n",
       "      <td>2</td>\n",
       "      <td>Average Forecast</td>\n",
       "      <td>106435.39675</td>\n",
       "      <td>298.461451</td>\n",
       "      <td>326.244382</td>\n",
       "      <td>325.645903</td>\n",
       "    </tr>\n",
       "    <tr>\n",
       "      <th>2</th>\n",
       "      <td>3</td>\n",
       "      <td>Simple Exponential Smootheing</td>\n",
       "      <td>3218.404535</td>\n",
       "      <td>13.937424</td>\n",
       "      <td>56.730984</td>\n",
       "      <td>53.181405</td>\n",
       "    </tr>\n",
       "    <tr>\n",
       "      <th>3</th>\n",
       "      <td>4</td>\n",
       "      <td>Holts Exponential Smootheing</td>\n",
       "      <td>373.184496</td>\n",
       "      <td>3.340599</td>\n",
       "      <td>19.317984</td>\n",
       "      <td>15.415953</td>\n",
       "    </tr>\n",
       "    <tr>\n",
       "      <th>4</th>\n",
       "      <td>5</td>\n",
       "      <td>Holts Winter Exponential Smootheing</td>\n",
       "      <td>895.753003</td>\n",
       "      <td>4.734561</td>\n",
       "      <td>29.929133</td>\n",
       "      <td>22.97855</td>\n",
       "    </tr>\n",
       "  </tbody>\n",
       "</table>\n",
       "</div>"
      ],
      "text/plain": [
       "  Model Number                           Model Name           MSE        MAPE  \\\n",
       "0            1                       Naive Forecast   2855.672195   12.893819   \n",
       "1            2                     Average Forecast  106435.39675  298.461451   \n",
       "2            3        Simple Exponential Smootheing   3218.404535   13.937424   \n",
       "3            4         Holts Exponential Smootheing    373.184496    3.340599   \n",
       "4            5  Holts Winter Exponential Smootheing    895.753003    4.734561   \n",
       "\n",
       "         RMSE         MAE  \n",
       "0    53.43849   49.654098  \n",
       "1  326.244382  325.645903  \n",
       "2   56.730984   53.181405  \n",
       "3   19.317984   15.415953  \n",
       "4   29.929133    22.97855  "
      ]
     },
     "execution_count": 58,
     "metadata": {},
     "output_type": "execute_result"
    }
   ],
   "source": [
    "df_models"
   ]
  },
  {
   "cell_type": "markdown",
   "id": "2e5bb2ae",
   "metadata": {},
   "source": [
    "The Holts Exponetial smoothing is performing better in all 3 exponential smoothing"
   ]
  },
  {
   "cell_type": "markdown",
   "id": "c38549f7",
   "metadata": {},
   "source": [
    "## Non- Heuristic Models"
   ]
  },
  {
   "cell_type": "markdown",
   "id": "cef43170",
   "metadata": {},
   "source": [
    "### 1 AR model"
   ]
  },
  {
   "cell_type": "code",
   "execution_count": 59,
   "id": "d8300296",
   "metadata": {},
   "outputs": [
    {
     "data": {
      "text/html": [
       "<table class=\"simpletable\">\n",
       "<caption>AutoReg Model Results</caption>\n",
       "<tr>\n",
       "  <th>Dep. Variable:</th>       <td>close</td>      <th>  No. Observations:  </th>   <td>4544</td>  \n",
       "</tr>\n",
       "<tr>\n",
       "  <th>Model:</th>            <td>AutoReg(12)</td>   <th>  Log Likelihood     </th> <td>-174.064</td>\n",
       "</tr>\n",
       "<tr>\n",
       "  <th>Method:</th>         <td>Conditional MLE</td> <th>  S.D. of innovations</th>   <td>0.251</td> \n",
       "</tr>\n",
       "<tr>\n",
       "  <th>Date:</th>          <td>Fri, 28 Jul 2023</td> <th>  AIC                </th>  <td>376.129</td>\n",
       "</tr>\n",
       "<tr>\n",
       "  <th>Time:</th>              <td>23:16:56</td>     <th>  BIC                </th>  <td>465.994</td>\n",
       "</tr>\n",
       "<tr>\n",
       "  <th>Sample:</th>               <td>12</td>        <th>  HQIC               </th>  <td>407.782</td>\n",
       "</tr>\n",
       "<tr>\n",
       "  <th></th>                     <td>4544</td>       <th>                     </th>     <td> </td>   \n",
       "</tr>\n",
       "</table>\n",
       "<table class=\"simpletable\">\n",
       "<tr>\n",
       "      <td></td>         <th>coef</th>     <th>std err</th>      <th>z</th>      <th>P>|z|</th>  <th>[0.025</th>    <th>0.975]</th>  \n",
       "</tr>\n",
       "<tr>\n",
       "  <th>const</th>     <td>   -0.0003</td> <td>    0.006</td> <td>   -0.053</td> <td> 0.958</td> <td>   -0.011</td> <td>    0.011</td>\n",
       "</tr>\n",
       "<tr>\n",
       "  <th>close.L1</th>  <td>    1.1800</td> <td>    0.015</td> <td>   80.530</td> <td> 0.000</td> <td>    1.151</td> <td>    1.209</td>\n",
       "</tr>\n",
       "<tr>\n",
       "  <th>close.L2</th>  <td>   -0.0100</td> <td>    0.023</td> <td>   -0.436</td> <td> 0.663</td> <td>   -0.055</td> <td>    0.035</td>\n",
       "</tr>\n",
       "<tr>\n",
       "  <th>close.L3</th>  <td>   -0.1214</td> <td>    0.023</td> <td>   -5.269</td> <td> 0.000</td> <td>   -0.167</td> <td>   -0.076</td>\n",
       "</tr>\n",
       "<tr>\n",
       "  <th>close.L4</th>  <td>    0.0020</td> <td>    0.023</td> <td>    0.084</td> <td> 0.933</td> <td>   -0.043</td> <td>    0.047</td>\n",
       "</tr>\n",
       "<tr>\n",
       "  <th>close.L5</th>  <td>   -0.0570</td> <td>    0.023</td> <td>   -2.465</td> <td> 0.014</td> <td>   -0.102</td> <td>   -0.012</td>\n",
       "</tr>\n",
       "<tr>\n",
       "  <th>close.L6</th>  <td>    0.0713</td> <td>    0.023</td> <td>    3.081</td> <td> 0.002</td> <td>    0.026</td> <td>    0.117</td>\n",
       "</tr>\n",
       "<tr>\n",
       "  <th>close.L7</th>  <td>    0.0401</td> <td>    0.023</td> <td>    1.733</td> <td> 0.083</td> <td>   -0.005</td> <td>    0.085</td>\n",
       "</tr>\n",
       "<tr>\n",
       "  <th>close.L8</th>  <td>   -0.1201</td> <td>    0.023</td> <td>   -5.192</td> <td> 0.000</td> <td>   -0.165</td> <td>   -0.075</td>\n",
       "</tr>\n",
       "<tr>\n",
       "  <th>close.L9</th>  <td>   -0.0166</td> <td>    0.023</td> <td>   -0.713</td> <td> 0.476</td> <td>   -0.062</td> <td>    0.029</td>\n",
       "</tr>\n",
       "<tr>\n",
       "  <th>close.L10</th> <td>    0.0578</td> <td>    0.023</td> <td>    2.492</td> <td> 0.013</td> <td>    0.012</td> <td>    0.103</td>\n",
       "</tr>\n",
       "<tr>\n",
       "  <th>close.L11</th> <td>    0.1471</td> <td>    0.023</td> <td>    6.344</td> <td> 0.000</td> <td>    0.102</td> <td>    0.193</td>\n",
       "</tr>\n",
       "<tr>\n",
       "  <th>close.L12</th> <td>   -0.1730</td> <td>    0.015</td> <td>  -11.631</td> <td> 0.000</td> <td>   -0.202</td> <td>   -0.144</td>\n",
       "</tr>\n",
       "</table>\n",
       "<table class=\"simpletable\">\n",
       "<caption>Roots</caption>\n",
       "<tr>\n",
       "    <td></td>    <th>            Real</th>  <th>         Imaginary</th> <th>         Modulus</th>  <th>        Frequency</th>\n",
       "</tr>\n",
       "<tr>\n",
       "  <th>AR.1</th>  <td>          -1.1383</td> <td>          -0.3285j</td> <td>           1.1847</td> <td>          -0.4553</td>\n",
       "</tr>\n",
       "<tr>\n",
       "  <th>AR.2</th>  <td>          -1.1383</td> <td>          +0.3285j</td> <td>           1.1847</td> <td>           0.4553</td>\n",
       "</tr>\n",
       "<tr>\n",
       "  <th>AR.3</th>  <td>          -0.8216</td> <td>          -0.9181j</td> <td>           1.2321</td> <td>          -0.3662</td>\n",
       "</tr>\n",
       "<tr>\n",
       "  <th>AR.4</th>  <td>          -0.8216</td> <td>          +0.9181j</td> <td>           1.2321</td> <td>           0.3662</td>\n",
       "</tr>\n",
       "<tr>\n",
       "  <th>AR.5</th>  <td>          -0.1995</td> <td>          -1.1396j</td> <td>           1.1569</td> <td>          -0.2776</td>\n",
       "</tr>\n",
       "<tr>\n",
       "  <th>AR.6</th>  <td>          -0.1995</td> <td>          +1.1396j</td> <td>           1.1569</td> <td>           0.2776</td>\n",
       "</tr>\n",
       "<tr>\n",
       "  <th>AR.7</th>  <td>           0.5405</td> <td>          -1.0333j</td> <td>           1.1661</td> <td>          -0.1733</td>\n",
       "</tr>\n",
       "<tr>\n",
       "  <th>AR.8</th>  <td>           0.5405</td> <td>          +1.0333j</td> <td>           1.1661</td> <td>           0.1733</td>\n",
       "</tr>\n",
       "<tr>\n",
       "  <th>AR.9</th>  <td>           1.0177</td> <td>          -0.6166j</td> <td>           1.1899</td> <td>          -0.0867</td>\n",
       "</tr>\n",
       "<tr>\n",
       "  <th>AR.10</th> <td>           1.0177</td> <td>          +0.6166j</td> <td>           1.1899</td> <td>           0.0867</td>\n",
       "</tr>\n",
       "<tr>\n",
       "  <th>AR.11</th> <td>           0.9992</td> <td>          -0.0000j</td> <td>           0.9992</td> <td>          -0.0000</td>\n",
       "</tr>\n",
       "<tr>\n",
       "  <th>AR.12</th> <td>           1.0535</td> <td>          -0.0000j</td> <td>           1.0535</td> <td>          -0.0000</td>\n",
       "</tr>\n",
       "</table>"
      ],
      "text/plain": [
       "<class 'statsmodels.iolib.summary.Summary'>\n",
       "\"\"\"\n",
       "                            AutoReg Model Results                             \n",
       "==============================================================================\n",
       "Dep. Variable:                  close   No. Observations:                 4544\n",
       "Model:                    AutoReg(12)   Log Likelihood                -174.064\n",
       "Method:               Conditional MLE   S.D. of innovations              0.251\n",
       "Date:                Fri, 28 Jul 2023   AIC                            376.129\n",
       "Time:                        23:16:56   BIC                            465.994\n",
       "Sample:                            12   HQIC                           407.782\n",
       "                                 4544                                         \n",
       "==============================================================================\n",
       "                 coef    std err          z      P>|z|      [0.025      0.975]\n",
       "------------------------------------------------------------------------------\n",
       "const         -0.0003      0.006     -0.053      0.958      -0.011       0.011\n",
       "close.L1       1.1800      0.015     80.530      0.000       1.151       1.209\n",
       "close.L2      -0.0100      0.023     -0.436      0.663      -0.055       0.035\n",
       "close.L3      -0.1214      0.023     -5.269      0.000      -0.167      -0.076\n",
       "close.L4       0.0020      0.023      0.084      0.933      -0.043       0.047\n",
       "close.L5      -0.0570      0.023     -2.465      0.014      -0.102      -0.012\n",
       "close.L6       0.0713      0.023      3.081      0.002       0.026       0.117\n",
       "close.L7       0.0401      0.023      1.733      0.083      -0.005       0.085\n",
       "close.L8      -0.1201      0.023     -5.192      0.000      -0.165      -0.075\n",
       "close.L9      -0.0166      0.023     -0.713      0.476      -0.062       0.029\n",
       "close.L10      0.0578      0.023      2.492      0.013       0.012       0.103\n",
       "close.L11      0.1471      0.023      6.344      0.000       0.102       0.193\n",
       "close.L12     -0.1730      0.015    -11.631      0.000      -0.202      -0.144\n",
       "                                    Roots                                     \n",
       "==============================================================================\n",
       "                   Real          Imaginary           Modulus         Frequency\n",
       "------------------------------------------------------------------------------\n",
       "AR.1            -1.1383           -0.3285j            1.1847           -0.4553\n",
       "AR.2            -1.1383           +0.3285j            1.1847            0.4553\n",
       "AR.3            -0.8216           -0.9181j            1.2321           -0.3662\n",
       "AR.4            -0.8216           +0.9181j            1.2321            0.3662\n",
       "AR.5            -0.1995           -1.1396j            1.1569           -0.2776\n",
       "AR.6            -0.1995           +1.1396j            1.1569            0.2776\n",
       "AR.7             0.5405           -1.0333j            1.1661           -0.1733\n",
       "AR.8             0.5405           +1.0333j            1.1661            0.1733\n",
       "AR.9             1.0177           -0.6166j            1.1899           -0.0867\n",
       "AR.10            1.0177           +0.6166j            1.1899            0.0867\n",
       "AR.11            0.9992           -0.0000j            0.9992           -0.0000\n",
       "AR.12            1.0535           -0.0000j            1.0535           -0.0000\n",
       "------------------------------------------------------------------------------\n",
       "\"\"\""
      ]
     },
     "execution_count": 59,
     "metadata": {},
     "output_type": "execute_result"
    }
   ],
   "source": [
    "model = AutoReg(train, lags = 12).fit()\n",
    "model.summary()"
   ]
  },
  {
   "cell_type": "code",
   "execution_count": 60,
   "id": "d3d7d306",
   "metadata": {},
   "outputs": [],
   "source": [
    "pred = model.predict(start = len(train), end = len(close_diff['close'])-1, dynamic = False)"
   ]
  },
  {
   "cell_type": "code",
   "execution_count": 61,
   "id": "8266cad3",
   "metadata": {},
   "outputs": [
    {
     "data": {
      "image/png": "[encoded data removed]",
      "text/plain": [
       "<Figure size 640x480 with 1 Axes>"
      ]
     },
     "metadata": {},
     "output_type": "display_data"
    }
   ],
   "source": [
    "plt.plot(pred)\n",
    "plt.plot(test, color = 'red')\n",
    "plt.show()"
   ]
  },
  {
   "cell_type": "code",
   "execution_count": 62,
   "id": "8868d3f7",
   "metadata": {},
   "outputs": [],
   "source": [
    "pred = pd.DataFrame(pred)\n",
    "pred = pred.rename({0:\"close\"},axis = 1)"
   ]
  },
  {
   "cell_type": "code",
   "execution_count": 63,
   "id": "da347bf5",
   "metadata": {},
   "outputs": [],
   "source": [
    "mse = mean_squared_error(test.close, pred.close)\n",
    "mape = np.mean(np.abs((test.close - pred.close) / pred.close)) * 100\n",
    "rmse = sqrt(mean_squared_error(test.close, pred.close))\n",
    "mae= mean_absolute_error(test.close, pred.close)\n",
    "df_models = df_models.append({\"Model Number\":6, \"Model Name\":'AR Model', 'MSE':mse, \n",
    "                              'MAPE':mape, 'RMSE':rmse, 'MAE':mae}, ignore_index=True)"
   ]
  },
  {
   "cell_type": "code",
   "execution_count": 64,
   "id": "0cea2bdd",
   "metadata": {},
   "outputs": [
    {
     "data": {
      "text/html": [
       "<div>\n",
       "<style scoped>\n",
       "    .dataframe tbody tr th:only-of-type {\n",
       "        vertical-align: middle;\n",
       "    }\n",
       "\n",
       "    .dataframe tbody tr th {\n",
       "        vertical-align: top;\n",
       "    }\n",
       "\n",
       "    .dataframe thead th {\n",
       "        text-align: right;\n",
       "    }\n",
       "</style>\n",
       "<table border=\"1\" class=\"dataframe\">\n",
       "  <thead>\n",
       "    <tr style=\"text-align: right;\">\n",
       "      <th></th>\n",
       "      <th>Model Number</th>\n",
       "      <th>Model Name</th>\n",
       "      <th>MSE</th>\n",
       "      <th>MAPE</th>\n",
       "      <th>RMSE</th>\n",
       "      <th>MAE</th>\n",
       "    </tr>\n",
       "  </thead>\n",
       "  <tbody>\n",
       "    <tr>\n",
       "      <th>0</th>\n",
       "      <td>1</td>\n",
       "      <td>Naive Forecast</td>\n",
       "      <td>2855.672195</td>\n",
       "      <td>12.893819</td>\n",
       "      <td>53.43849</td>\n",
       "      <td>49.654098</td>\n",
       "    </tr>\n",
       "    <tr>\n",
       "      <th>1</th>\n",
       "      <td>2</td>\n",
       "      <td>Average Forecast</td>\n",
       "      <td>106435.39675</td>\n",
       "      <td>298.461451</td>\n",
       "      <td>326.244382</td>\n",
       "      <td>325.645903</td>\n",
       "    </tr>\n",
       "    <tr>\n",
       "      <th>2</th>\n",
       "      <td>3</td>\n",
       "      <td>Simple Exponential Smootheing</td>\n",
       "      <td>3218.404535</td>\n",
       "      <td>13.937424</td>\n",
       "      <td>56.730984</td>\n",
       "      <td>53.181405</td>\n",
       "    </tr>\n",
       "    <tr>\n",
       "      <th>3</th>\n",
       "      <td>4</td>\n",
       "      <td>Holts Exponential Smootheing</td>\n",
       "      <td>373.184496</td>\n",
       "      <td>3.340599</td>\n",
       "      <td>19.317984</td>\n",
       "      <td>15.415953</td>\n",
       "    </tr>\n",
       "    <tr>\n",
       "      <th>4</th>\n",
       "      <td>5</td>\n",
       "      <td>Holts Winter Exponential Smootheing</td>\n",
       "      <td>895.753003</td>\n",
       "      <td>4.734561</td>\n",
       "      <td>29.929133</td>\n",
       "      <td>22.97855</td>\n",
       "    </tr>\n",
       "    <tr>\n",
       "      <th>5</th>\n",
       "      <td>6</td>\n",
       "      <td>AR Model</td>\n",
       "      <td>176.5031</td>\n",
       "      <td>2.970111</td>\n",
       "      <td>13.285447</td>\n",
       "      <td>12.547147</td>\n",
       "    </tr>\n",
       "  </tbody>\n",
       "</table>\n",
       "</div>"
      ],
      "text/plain": [
       "  Model Number                           Model Name           MSE        MAPE  \\\n",
       "0            1                       Naive Forecast   2855.672195   12.893819   \n",
       "1            2                     Average Forecast  106435.39675  298.461451   \n",
       "2            3        Simple Exponential Smootheing   3218.404535   13.937424   \n",
       "3            4         Holts Exponential Smootheing    373.184496    3.340599   \n",
       "4            5  Holts Winter Exponential Smootheing    895.753003    4.734561   \n",
       "5            6                             AR Model      176.5031    2.970111   \n",
       "\n",
       "         RMSE         MAE  \n",
       "0    53.43849   49.654098  \n",
       "1  326.244382  325.645903  \n",
       "2   56.730984   53.181405  \n",
       "3   19.317984   15.415953  \n",
       "4   29.929133    22.97855  \n",
       "5   13.285447   12.547147  "
      ]
     },
     "execution_count": 64,
     "metadata": {},
     "output_type": "execute_result"
    }
   ],
   "source": [
    "df_models"
   ]
  },
  {
   "cell_type": "markdown",
   "id": "d97a196c",
   "metadata": {},
   "source": [
    "### 2 MA Model"
   ]
  },
  {
   "cell_type": "code",
   "execution_count": 65,
   "id": "e2e013a6",
   "metadata": {},
   "outputs": [],
   "source": [
    "arima_model = ARIMA(train, order = (0, 0, 1))  \n",
    "modelfit = arima_model.fit()\n",
    "pred = modelfit.forecast(steps = len(test))"
   ]
  },
  {
   "cell_type": "code",
   "execution_count": 66,
   "id": "56d8245a",
   "metadata": {},
   "outputs": [
    {
     "data": {
      "image/png": "[encoded data removed]",
      "text/plain": [
       "<Figure size 640x480 with 1 Axes>"
      ]
     },
     "metadata": {},
     "output_type": "display_data"
    }
   ],
   "source": [
    "plt.plot(pred)\n",
    "plt.plot(test, color = 'red')\n",
    "plt.show()"
   ]
  },
  {
   "cell_type": "code",
   "execution_count": 67,
   "id": "7f7c2455",
   "metadata": {},
   "outputs": [],
   "source": [
    "pred = pd.DataFrame(pred)\n",
    "pred = pred.rename({'predicted_mean':\"close\"},axis = 1)"
   ]
  },
  {
   "cell_type": "code",
   "execution_count": 68,
   "id": "4071284c",
   "metadata": {},
   "outputs": [],
   "source": [
    "mse = mean_squared_error(test.close, pred.close)\n",
    "mape = np.mean(np.abs((test.close - pred.close) / pred.close)) * 100\n",
    "rmse = sqrt(mean_squared_error(test.close, pred.close))\n",
    "mae= mean_absolute_error(test.close, pred.close)\n",
    "df_models = df_models.append({\"Model Number\":7, \"Model Name\":'MA Model', 'MSE':mse, \n",
    "                              'MAPE':mape, 'RMSE':rmse, 'MAE':mae}, ignore_index=True)"
   ]
  },
  {
   "cell_type": "code",
   "execution_count": 69,
   "id": "65809165",
   "metadata": {},
   "outputs": [
    {
     "data": {
      "text/html": [
       "<div>\n",
       "<style scoped>\n",
       "    .dataframe tbody tr th:only-of-type {\n",
       "        vertical-align: middle;\n",
       "    }\n",
       "\n",
       "    .dataframe tbody tr th {\n",
       "        vertical-align: top;\n",
       "    }\n",
       "\n",
       "    .dataframe thead th {\n",
       "        text-align: right;\n",
       "    }\n",
       "</style>\n",
       "<table border=\"1\" class=\"dataframe\">\n",
       "  <thead>\n",
       "    <tr style=\"text-align: right;\">\n",
       "      <th></th>\n",
       "      <th>Model Number</th>\n",
       "      <th>Model Name</th>\n",
       "      <th>MSE</th>\n",
       "      <th>MAPE</th>\n",
       "      <th>RMSE</th>\n",
       "      <th>MAE</th>\n",
       "    </tr>\n",
       "  </thead>\n",
       "  <tbody>\n",
       "    <tr>\n",
       "      <th>0</th>\n",
       "      <td>1</td>\n",
       "      <td>Naive Forecast</td>\n",
       "      <td>2855.672195</td>\n",
       "      <td>12.893819</td>\n",
       "      <td>53.43849</td>\n",
       "      <td>49.654098</td>\n",
       "    </tr>\n",
       "    <tr>\n",
       "      <th>1</th>\n",
       "      <td>2</td>\n",
       "      <td>Average Forecast</td>\n",
       "      <td>106435.39675</td>\n",
       "      <td>298.461451</td>\n",
       "      <td>326.244382</td>\n",
       "      <td>325.645903</td>\n",
       "    </tr>\n",
       "    <tr>\n",
       "      <th>2</th>\n",
       "      <td>3</td>\n",
       "      <td>Simple Exponential Smootheing</td>\n",
       "      <td>3218.404535</td>\n",
       "      <td>13.937424</td>\n",
       "      <td>56.730984</td>\n",
       "      <td>53.181405</td>\n",
       "    </tr>\n",
       "    <tr>\n",
       "      <th>3</th>\n",
       "      <td>4</td>\n",
       "      <td>Holts Exponential Smootheing</td>\n",
       "      <td>373.184496</td>\n",
       "      <td>3.340599</td>\n",
       "      <td>19.317984</td>\n",
       "      <td>15.415953</td>\n",
       "    </tr>\n",
       "    <tr>\n",
       "      <th>4</th>\n",
       "      <td>5</td>\n",
       "      <td>Holts Winter Exponential Smootheing</td>\n",
       "      <td>895.753003</td>\n",
       "      <td>4.734561</td>\n",
       "      <td>29.929133</td>\n",
       "      <td>22.97855</td>\n",
       "    </tr>\n",
       "    <tr>\n",
       "      <th>5</th>\n",
       "      <td>6</td>\n",
       "      <td>AR Model</td>\n",
       "      <td>176.5031</td>\n",
       "      <td>2.970111</td>\n",
       "      <td>13.285447</td>\n",
       "      <td>12.547147</td>\n",
       "    </tr>\n",
       "    <tr>\n",
       "      <th>6</th>\n",
       "      <td>7</td>\n",
       "      <td>MA Model</td>\n",
       "      <td>106097.216027</td>\n",
       "      <td>297.25837</td>\n",
       "      <td>325.725676</td>\n",
       "      <td>324.852688</td>\n",
       "    </tr>\n",
       "  </tbody>\n",
       "</table>\n",
       "</div>"
      ],
      "text/plain": [
       "  Model Number                           Model Name            MSE  \\\n",
       "0            1                       Naive Forecast    2855.672195   \n",
       "1            2                     Average Forecast   106435.39675   \n",
       "2            3        Simple Exponential Smootheing    3218.404535   \n",
       "3            4         Holts Exponential Smootheing     373.184496   \n",
       "4            5  Holts Winter Exponential Smootheing     895.753003   \n",
       "5            6                             AR Model       176.5031   \n",
       "6            7                             MA Model  106097.216027   \n",
       "\n",
       "         MAPE        RMSE         MAE  \n",
       "0   12.893819    53.43849   49.654098  \n",
       "1  298.461451  326.244382  325.645903  \n",
       "2   13.937424   56.730984   53.181405  \n",
       "3    3.340599   19.317984   15.415953  \n",
       "4    4.734561   29.929133    22.97855  \n",
       "5    2.970111   13.285447   12.547147  \n",
       "6   297.25837  325.725676  324.852688  "
      ]
     },
     "execution_count": 69,
     "metadata": {},
     "output_type": "execute_result"
    }
   ],
   "source": [
    "df_models"
   ]
  },
  {
   "cell_type": "markdown",
   "id": "c6f7307e",
   "metadata": {},
   "source": [
    "### 3 ARIMA Model"
   ]
  },
  {
   "cell_type": "code",
   "execution_count": 70,
   "id": "295ecd8e",
   "metadata": {},
   "outputs": [],
   "source": [
    "arima_model = ARIMA(train, order = (2, 0, 0))  \n",
    "modelfit = arima_model.fit()\n",
    "pred = modelfit.forecast(steps = len(test))"
   ]
  },
  {
   "cell_type": "code",
   "execution_count": 71,
   "id": "08bfed3a",
   "metadata": {},
   "outputs": [
    {
     "data": {
      "image/png": "[encoded data removed]",
      "text/plain": [
       "<Figure size 640x480 with 1 Axes>"
      ]
     },
     "metadata": {},
     "output_type": "display_data"
    }
   ],
   "source": [
    "plt.plot(pred)\n",
    "plt.plot(test, color = 'red')\n",
    "plt.show()"
   ]
  },
  {
   "cell_type": "code",
   "execution_count": 72,
   "id": "846a8781",
   "metadata": {},
   "outputs": [],
   "source": [
    "pred = pd.DataFrame(pred)\n",
    "pred = pred.rename({'predicted_mean':\"close\"},axis = 1)"
   ]
  },
  {
   "cell_type": "code",
   "execution_count": 73,
   "id": "b238c591",
   "metadata": {},
   "outputs": [],
   "source": [
    "mse = mean_squared_error(test.close, pred.close)\n",
    "mape = np.mean(np.abs((test.close - pred.close) / pred.close)) * 100\n",
    "rmse = sqrt(mean_squared_error(test.close, pred.close))\n",
    "mae= mean_absolute_error(test.close, pred.close)\n",
    "df_models = df_models.append({\"Model Number\":8, \"Model Name\":'MA Model', 'MSE':mse, \n",
    "                              'MAPE':mape, 'RMSE':rmse, 'MAE':mae}, ignore_index=True)"
   ]
  },
  {
   "cell_type": "code",
   "execution_count": 74,
   "id": "7bf13a7d",
   "metadata": {},
   "outputs": [
    {
     "data": {
      "text/html": [
       "<div>\n",
       "<style scoped>\n",
       "    .dataframe tbody tr th:only-of-type {\n",
       "        vertical-align: middle;\n",
       "    }\n",
       "\n",
       "    .dataframe tbody tr th {\n",
       "        vertical-align: top;\n",
       "    }\n",
       "\n",
       "    .dataframe thead th {\n",
       "        text-align: right;\n",
       "    }\n",
       "</style>\n",
       "<table border=\"1\" class=\"dataframe\">\n",
       "  <thead>\n",
       "    <tr style=\"text-align: right;\">\n",
       "      <th></th>\n",
       "      <th>Model Number</th>\n",
       "      <th>Model Name</th>\n",
       "      <th>MSE</th>\n",
       "      <th>MAPE</th>\n",
       "      <th>RMSE</th>\n",
       "      <th>MAE</th>\n",
       "    </tr>\n",
       "  </thead>\n",
       "  <tbody>\n",
       "    <tr>\n",
       "      <th>0</th>\n",
       "      <td>1</td>\n",
       "      <td>Naive Forecast</td>\n",
       "      <td>2855.672195</td>\n",
       "      <td>12.893819</td>\n",
       "      <td>53.43849</td>\n",
       "      <td>49.654098</td>\n",
       "    </tr>\n",
       "    <tr>\n",
       "      <th>1</th>\n",
       "      <td>2</td>\n",
       "      <td>Average Forecast</td>\n",
       "      <td>106435.39675</td>\n",
       "      <td>298.461451</td>\n",
       "      <td>326.244382</td>\n",
       "      <td>325.645903</td>\n",
       "    </tr>\n",
       "    <tr>\n",
       "      <th>2</th>\n",
       "      <td>3</td>\n",
       "      <td>Simple Exponential Smootheing</td>\n",
       "      <td>3218.404535</td>\n",
       "      <td>13.937424</td>\n",
       "      <td>56.730984</td>\n",
       "      <td>53.181405</td>\n",
       "    </tr>\n",
       "    <tr>\n",
       "      <th>3</th>\n",
       "      <td>4</td>\n",
       "      <td>Holts Exponential Smootheing</td>\n",
       "      <td>373.184496</td>\n",
       "      <td>3.340599</td>\n",
       "      <td>19.317984</td>\n",
       "      <td>15.415953</td>\n",
       "    </tr>\n",
       "    <tr>\n",
       "      <th>4</th>\n",
       "      <td>5</td>\n",
       "      <td>Holts Winter Exponential Smootheing</td>\n",
       "      <td>895.753003</td>\n",
       "      <td>4.734561</td>\n",
       "      <td>29.929133</td>\n",
       "      <td>22.97855</td>\n",
       "    </tr>\n",
       "    <tr>\n",
       "      <th>5</th>\n",
       "      <td>6</td>\n",
       "      <td>AR Model</td>\n",
       "      <td>176.5031</td>\n",
       "      <td>2.970111</td>\n",
       "      <td>13.285447</td>\n",
       "      <td>12.547147</td>\n",
       "    </tr>\n",
       "    <tr>\n",
       "      <th>6</th>\n",
       "      <td>7</td>\n",
       "      <td>MA Model</td>\n",
       "      <td>106097.216027</td>\n",
       "      <td>297.25837</td>\n",
       "      <td>325.725676</td>\n",
       "      <td>324.852688</td>\n",
       "    </tr>\n",
       "    <tr>\n",
       "      <th>7</th>\n",
       "      <td>8</td>\n",
       "      <td>MA Model</td>\n",
       "      <td>2864.789711</td>\n",
       "      <td>12.913473</td>\n",
       "      <td>53.52373</td>\n",
       "      <td>49.71793</td>\n",
       "    </tr>\n",
       "  </tbody>\n",
       "</table>\n",
       "</div>"
      ],
      "text/plain": [
       "  Model Number                           Model Name            MSE  \\\n",
       "0            1                       Naive Forecast    2855.672195   \n",
       "1            2                     Average Forecast   106435.39675   \n",
       "2            3        Simple Exponential Smootheing    3218.404535   \n",
       "3            4         Holts Exponential Smootheing     373.184496   \n",
       "4            5  Holts Winter Exponential Smootheing     895.753003   \n",
       "5            6                             AR Model       176.5031   \n",
       "6            7                             MA Model  106097.216027   \n",
       "7            8                             MA Model    2864.789711   \n",
       "\n",
       "         MAPE        RMSE         MAE  \n",
       "0   12.893819    53.43849   49.654098  \n",
       "1  298.461451  326.244382  325.645903  \n",
       "2   13.937424   56.730984   53.181405  \n",
       "3    3.340599   19.317984   15.415953  \n",
       "4    4.734561   29.929133    22.97855  \n",
       "5    2.970111   13.285447   12.547147  \n",
       "6   297.25837  325.725676  324.852688  \n",
       "7   12.913473    53.52373    49.71793  "
      ]
     },
     "execution_count": 74,
     "metadata": {},
     "output_type": "execute_result"
    }
   ],
   "source": [
    "df_models"
   ]
  },
  {
   "cell_type": "markdown",
   "id": "543fe81a",
   "metadata": {},
   "source": [
    "### 4 Auto Arima Model"
   ]
  },
  {
   "cell_type": "code",
   "execution_count": 75,
   "id": "171624c9",
   "metadata": {},
   "outputs": [
    {
     "name": "stdout",
     "output_type": "stream",
     "text": [
      "Performing stepwise search to minimize aic\n",
      " ARIMA(0,0,0)(0,0,0)[0] intercept   : AIC=54288.742, Time=0.16 sec\n",
      " ARIMA(1,0,0)(0,0,0)[0] intercept   : AIC=inf, Time=4.63 sec\n",
      " ARIMA(0,0,1)(0,0,0)[0] intercept   : AIC=inf, Time=2.61 sec\n",
      " ARIMA(0,0,0)(0,0,0)[0]             : AIC=58106.841, Time=0.08 sec\n",
      " ARIMA(1,0,1)(0,0,0)[0] intercept   : AIC=1609.773, Time=6.98 sec\n",
      " ARIMA(2,0,1)(0,0,0)[0] intercept   : AIC=inf, Time=7.78 sec\n",
      " ARIMA(1,0,2)(0,0,0)[0] intercept   : AIC=1270.364, Time=8.68 sec\n",
      " ARIMA(0,0,2)(0,0,0)[0] intercept   : AIC=inf, Time=7.44 sec\n",
      " ARIMA(2,0,2)(0,0,0)[0] intercept   : AIC=inf, Time=12.32 sec\n",
      " ARIMA(1,0,3)(0,0,0)[0] intercept   : AIC=1120.644, Time=10.09 sec\n",
      " ARIMA(0,0,3)(0,0,0)[0] intercept   : AIC=inf, Time=5.77 sec\n",
      " ARIMA(2,0,3)(0,0,0)[0] intercept   : AIC=inf, Time=12.46 sec\n",
      " ARIMA(1,0,3)(0,0,0)[0]             : AIC=1117.805, Time=6.97 sec\n",
      " ARIMA(0,0,3)(0,0,0)[0]             : AIC=inf, Time=8.26 sec\n",
      " ARIMA(1,0,2)(0,0,0)[0]             : AIC=1268.231, Time=5.05 sec\n",
      " ARIMA(2,0,3)(0,0,0)[0]             : AIC=inf, Time=7.73 sec\n",
      " ARIMA(0,0,2)(0,0,0)[0]             : AIC=inf, Time=3.12 sec\n",
      " ARIMA(2,0,2)(0,0,0)[0]             : AIC=inf, Time=8.53 sec\n",
      "\n",
      "Best model:  ARIMA(1,0,3)(0,0,0)[0]          \n",
      "Total fit time: 118.674 seconds\n"
     ]
    }
   ],
   "source": [
    "# grid search and find best parameters\n",
    "stepwise_fit = auto_arima(train, start_p = 0, \n",
    "                          start_q = 0, max_p = 3, max_q = 3,\n",
    "                          trace = True, \n",
    "                          stationary = True,\n",
    "                          error_action ='ignore', \n",
    "                          suppress_warnings = True, \n",
    "                          information_criterion='aic',\n",
    "                          stepwise = True)"
   ]
  },
  {
   "cell_type": "markdown",
   "id": "7ece37fb",
   "metadata": {},
   "source": [
    "According to Auto Arima model the model with least AIC is with the order (1,0,3)(0,0,0)"
   ]
  },
  {
   "cell_type": "code",
   "execution_count": 76,
   "id": "86956309",
   "metadata": {},
   "outputs": [],
   "source": [
    "# Let's run the arima model on the order(1,0,3)"
   ]
  },
  {
   "cell_type": "code",
   "execution_count": 77,
   "id": "bac5cc65",
   "metadata": {},
   "outputs": [],
   "source": [
    "arima_model = ARIMA(train, order = (1,0,3))  \n",
    "modelfit = arima_model.fit()\n",
    "pred = modelfit.forecast(steps = len(test))"
   ]
  },
  {
   "cell_type": "code",
   "execution_count": 78,
   "id": "adbe0aab",
   "metadata": {},
   "outputs": [
    {
     "data": {
      "image/png": "[encoded data removed]",
      "text/plain": [
       "<Figure size 640x480 with 1 Axes>"
      ]
     },
     "metadata": {},
     "output_type": "display_data"
    }
   ],
   "source": [
    "plt.plot(pred)\n",
    "plt.plot(test, color = 'red')\n",
    "plt.show()"
   ]
  },
  {
   "cell_type": "code",
   "execution_count": 79,
   "id": "c1cd979a",
   "metadata": {},
   "outputs": [],
   "source": [
    "pred = pd.DataFrame(pred)\n",
    "pred = pred.rename({'predicted_mean':\"close\"},axis = 1)"
   ]
  },
  {
   "cell_type": "code",
   "execution_count": 80,
   "id": "a6ca4952",
   "metadata": {},
   "outputs": [],
   "source": [
    "mse = mean_squared_error(test.close, pred.close)\n",
    "mape = np.mean(np.abs((test.close - pred.close) / pred.close)) * 100\n",
    "rmse = sqrt(mean_squared_error(test.close, pred.close))\n",
    "mae= mean_absolute_error(test.close, pred.close)\n",
    "df_models = df_models.append({\"Model Number\":9, \"Model Name\":'ARIMA Model', 'MSE':mse, \n",
    "                              'MAPE':mape, 'RMSE':rmse, 'MAE':mae}, ignore_index=True)"
   ]
  },
  {
   "cell_type": "code",
   "execution_count": 81,
   "id": "7ff8c740",
   "metadata": {},
   "outputs": [
    {
     "data": {
      "text/html": [
       "<div>\n",
       "<style scoped>\n",
       "    .dataframe tbody tr th:only-of-type {\n",
       "        vertical-align: middle;\n",
       "    }\n",
       "\n",
       "    .dataframe tbody tr th {\n",
       "        vertical-align: top;\n",
       "    }\n",
       "\n",
       "    .dataframe thead th {\n",
       "        text-align: right;\n",
       "    }\n",
       "</style>\n",
       "<table border=\"1\" class=\"dataframe\">\n",
       "  <thead>\n",
       "    <tr style=\"text-align: right;\">\n",
       "      <th></th>\n",
       "      <th>Model Number</th>\n",
       "      <th>Model Name</th>\n",
       "      <th>MSE</th>\n",
       "      <th>MAPE</th>\n",
       "      <th>RMSE</th>\n",
       "      <th>MAE</th>\n",
       "    </tr>\n",
       "  </thead>\n",
       "  <tbody>\n",
       "    <tr>\n",
       "      <th>0</th>\n",
       "      <td>1</td>\n",
       "      <td>Naive Forecast</td>\n",
       "      <td>2855.672195</td>\n",
       "      <td>12.893819</td>\n",
       "      <td>53.43849</td>\n",
       "      <td>49.654098</td>\n",
       "    </tr>\n",
       "    <tr>\n",
       "      <th>1</th>\n",
       "      <td>2</td>\n",
       "      <td>Average Forecast</td>\n",
       "      <td>106435.39675</td>\n",
       "      <td>298.461451</td>\n",
       "      <td>326.244382</td>\n",
       "      <td>325.645903</td>\n",
       "    </tr>\n",
       "    <tr>\n",
       "      <th>2</th>\n",
       "      <td>3</td>\n",
       "      <td>Simple Exponential Smootheing</td>\n",
       "      <td>3218.404535</td>\n",
       "      <td>13.937424</td>\n",
       "      <td>56.730984</td>\n",
       "      <td>53.181405</td>\n",
       "    </tr>\n",
       "    <tr>\n",
       "      <th>3</th>\n",
       "      <td>4</td>\n",
       "      <td>Holts Exponential Smootheing</td>\n",
       "      <td>373.184496</td>\n",
       "      <td>3.340599</td>\n",
       "      <td>19.317984</td>\n",
       "      <td>15.415953</td>\n",
       "    </tr>\n",
       "    <tr>\n",
       "      <th>4</th>\n",
       "      <td>5</td>\n",
       "      <td>Holts Winter Exponential Smootheing</td>\n",
       "      <td>895.753003</td>\n",
       "      <td>4.734561</td>\n",
       "      <td>29.929133</td>\n",
       "      <td>22.97855</td>\n",
       "    </tr>\n",
       "    <tr>\n",
       "      <th>5</th>\n",
       "      <td>6</td>\n",
       "      <td>AR Model</td>\n",
       "      <td>176.5031</td>\n",
       "      <td>2.970111</td>\n",
       "      <td>13.285447</td>\n",
       "      <td>12.547147</td>\n",
       "    </tr>\n",
       "    <tr>\n",
       "      <th>6</th>\n",
       "      <td>7</td>\n",
       "      <td>MA Model</td>\n",
       "      <td>106097.216027</td>\n",
       "      <td>297.25837</td>\n",
       "      <td>325.725676</td>\n",
       "      <td>324.852688</td>\n",
       "    </tr>\n",
       "    <tr>\n",
       "      <th>7</th>\n",
       "      <td>8</td>\n",
       "      <td>MA Model</td>\n",
       "      <td>2864.789711</td>\n",
       "      <td>12.913473</td>\n",
       "      <td>53.52373</td>\n",
       "      <td>49.71793</td>\n",
       "    </tr>\n",
       "    <tr>\n",
       "      <th>8</th>\n",
       "      <td>9</td>\n",
       "      <td>ARIMA Model</td>\n",
       "      <td>2818.021097</td>\n",
       "      <td>12.776441</td>\n",
       "      <td>53.085036</td>\n",
       "      <td>49.250695</td>\n",
       "    </tr>\n",
       "  </tbody>\n",
       "</table>\n",
       "</div>"
      ],
      "text/plain": [
       "  Model Number                           Model Name            MSE  \\\n",
       "0            1                       Naive Forecast    2855.672195   \n",
       "1            2                     Average Forecast   106435.39675   \n",
       "2            3        Simple Exponential Smootheing    3218.404535   \n",
       "3            4         Holts Exponential Smootheing     373.184496   \n",
       "4            5  Holts Winter Exponential Smootheing     895.753003   \n",
       "5            6                             AR Model       176.5031   \n",
       "6            7                             MA Model  106097.216027   \n",
       "7            8                             MA Model    2864.789711   \n",
       "8            9                          ARIMA Model    2818.021097   \n",
       "\n",
       "         MAPE        RMSE         MAE  \n",
       "0   12.893819    53.43849   49.654098  \n",
       "1  298.461451  326.244382  325.645903  \n",
       "2   13.937424   56.730984   53.181405  \n",
       "3    3.340599   19.317984   15.415953  \n",
       "4    4.734561   29.929133    22.97855  \n",
       "5    2.970111   13.285447   12.547147  \n",
       "6   297.25837  325.725676  324.852688  \n",
       "7   12.913473    53.52373    49.71793  \n",
       "8   12.776441   53.085036   49.250695  "
      ]
     },
     "execution_count": 81,
     "metadata": {},
     "output_type": "execute_result"
    }
   ],
   "source": [
    "df_models"
   ]
  },
  {
   "cell_type": "code",
   "execution_count": 82,
   "id": "cb28714a",
   "metadata": {},
   "outputs": [
    {
     "data": {
      "text/html": [
       "<table class=\"simpletable\">\n",
       "<caption>SARIMAX Results</caption>\n",
       "<tr>\n",
       "  <th>Dep. Variable:</th>         <td>close</td>      <th>  No. Observations:  </th>   <td>4544</td>  \n",
       "</tr>\n",
       "<tr>\n",
       "  <th>Model:</th>            <td>ARIMA(1, 0, 3)</td>  <th>  Log Likelihood     </th> <td>-553.453</td>\n",
       "</tr>\n",
       "<tr>\n",
       "  <th>Date:</th>            <td>Fri, 28 Jul 2023</td> <th>  AIC                </th> <td>1118.907</td>\n",
       "</tr>\n",
       "<tr>\n",
       "  <th>Time:</th>                <td>23:19:31</td>     <th>  BIC                </th> <td>1157.436</td>\n",
       "</tr>\n",
       "<tr>\n",
       "  <th>Sample:</th>                  <td>0</td>        <th>  HQIC               </th> <td>1132.476</td>\n",
       "</tr>\n",
       "<tr>\n",
       "  <th></th>                      <td> - 4544</td>     <th>                     </th>     <td> </td>   \n",
       "</tr>\n",
       "<tr>\n",
       "  <th>Covariance Type:</th>        <td>opg</td>       <th>                     </th>     <td> </td>   \n",
       "</tr>\n",
       "</table>\n",
       "<table class=\"simpletable\">\n",
       "<tr>\n",
       "     <td></td>       <th>coef</th>     <th>std err</th>      <th>z</th>      <th>P>|z|</th>  <th>[0.025</th>    <th>0.975]</th>  \n",
       "</tr>\n",
       "<tr>\n",
       "  <th>const</th>  <td>  109.4714</td> <td> 2.97e-09</td> <td> 3.69e+10</td> <td> 0.000</td> <td>  109.471</td> <td>  109.471</td>\n",
       "</tr>\n",
       "<tr>\n",
       "  <th>ar.L1</th>  <td>    1.0000</td> <td> 1.37e-05</td> <td> 7.29e+04</td> <td> 0.000</td> <td>    1.000</td> <td>    1.000</td>\n",
       "</tr>\n",
       "<tr>\n",
       "  <th>ma.L1</th>  <td>    0.2683</td> <td>    0.003</td> <td>   90.830</td> <td> 0.000</td> <td>    0.262</td> <td>    0.274</td>\n",
       "</tr>\n",
       "<tr>\n",
       "  <th>ma.L2</th>  <td>    0.2702</td> <td>    0.003</td> <td>  101.169</td> <td> 0.000</td> <td>    0.265</td> <td>    0.275</td>\n",
       "</tr>\n",
       "<tr>\n",
       "  <th>ma.L3</th>  <td>    0.1775</td> <td>    0.004</td> <td>   42.059</td> <td> 0.000</td> <td>    0.169</td> <td>    0.186</td>\n",
       "</tr>\n",
       "<tr>\n",
       "  <th>sigma2</th> <td>    0.0745</td> <td>    0.000</td> <td>  484.172</td> <td> 0.000</td> <td>    0.074</td> <td>    0.075</td>\n",
       "</tr>\n",
       "</table>\n",
       "<table class=\"simpletable\">\n",
       "<tr>\n",
       "  <th>Ljung-Box (L1) (Q):</th>     <td>0.07</td>  <th>  Jarque-Bera (JB):  </th> <td>65752222.25</td>\n",
       "</tr>\n",
       "<tr>\n",
       "  <th>Prob(Q):</th>                <td>0.79</td>  <th>  Prob(JB):          </th>    <td>0.00</td>    \n",
       "</tr>\n",
       "<tr>\n",
       "  <th>Heteroskedasticity (H):</th> <td>57.17</td> <th>  Skew:              </th>    <td>18.32</td>   \n",
       "</tr>\n",
       "<tr>\n",
       "  <th>Prob(H) (two-sided):</th>    <td>0.00</td>  <th>  Kurtosis:          </th>   <td>591.17</td>   \n",
       "</tr>\n",
       "</table><br/><br/>Warnings:<br/>[1] Covariance matrix calculated using the outer product of gradients (complex-step).<br/>[2] Covariance matrix is singular or near-singular, with condition number 1.47e+22. Standard errors may be unstable."
      ],
      "text/plain": [
       "<class 'statsmodels.iolib.summary.Summary'>\n",
       "\"\"\"\n",
       "                               SARIMAX Results                                \n",
       "==============================================================================\n",
       "Dep. Variable:                  close   No. Observations:                 4544\n",
       "Model:                 ARIMA(1, 0, 3)   Log Likelihood                -553.453\n",
       "Date:                Fri, 28 Jul 2023   AIC                           1118.907\n",
       "Time:                        23:19:31   BIC                           1157.436\n",
       "Sample:                             0   HQIC                          1132.476\n",
       "                               - 4544                                         \n",
       "Covariance Type:                  opg                                         \n",
       "==============================================================================\n",
       "                 coef    std err          z      P>|z|      [0.025      0.975]\n",
       "------------------------------------------------------------------------------\n",
       "const        109.4714   2.97e-09   3.69e+10      0.000     109.471     109.471\n",
       "ar.L1          1.0000   1.37e-05   7.29e+04      0.000       1.000       1.000\n",
       "ma.L1          0.2683      0.003     90.830      0.000       0.262       0.274\n",
       "ma.L2          0.2702      0.003    101.169      0.000       0.265       0.275\n",
       "ma.L3          0.1775      0.004     42.059      0.000       0.169       0.186\n",
       "sigma2         0.0745      0.000    484.172      0.000       0.074       0.075\n",
       "===================================================================================\n",
       "Ljung-Box (L1) (Q):                   0.07   Jarque-Bera (JB):          65752222.25\n",
       "Prob(Q):                              0.79   Prob(JB):                         0.00\n",
       "Heteroskedasticity (H):              57.17   Skew:                            18.32\n",
       "Prob(H) (two-sided):                  0.00   Kurtosis:                       591.17\n",
       "===================================================================================\n",
       "\n",
       "Warnings:\n",
       "[1] Covariance matrix calculated using the outer product of gradients (complex-step).\n",
       "[2] Covariance matrix is singular or near-singular, with condition number 1.47e+22. Standard errors may be unstable.\n",
       "\"\"\""
      ]
     },
     "execution_count": 82,
     "metadata": {},
     "output_type": "execute_result"
    }
   ],
   "source": [
    "arima = ARIMA(train['close'], order=(1,0,3)).fit() #we take d=1 to stationarize the data and q=1 as it was the significant lag before shutdown\n",
    "arima.summary()"
   ]
  },
  {
   "cell_type": "markdown",
   "id": "9de8c631",
   "metadata": {},
   "source": [
    "## Analysis of the Experiment"
   ]
  },
  {
   "cell_type": "markdown",
   "id": "de96c255",
   "metadata": {},
   "source": [
    "### 1 Residuals have constant variance\n",
    "\n",
    "To check, we read the 'Heteroskedasticity' metric in ARIMA result. Our Ho is that no heteroskedasticity in residuals/ constant variance exists.\n",
    "\n",
    "In our test results,p-value of 0.0<0.05, that is, so we reject the null hypothesis that constant variance exists"
   ]
  },
  {
   "cell_type": "markdown",
   "id": "4e3beef5",
   "metadata": {},
   "source": [
    "### 2 Normailty check for Residuals"
   ]
  },
  {
   "cell_type": "code",
   "execution_count": 83,
   "id": "deb6577d",
   "metadata": {},
   "outputs": [
    {
     "data": {
      "text/plain": [
       "<Axes: ylabel='Count'>"
      ]
     },
     "execution_count": 83,
     "metadata": {},
     "output_type": "execute_result"
    },
    {
     "data": {
      "image/png": "[encoded data removed]",
      "text/plain": [
       "<Figure size 640x480 with 1 Axes>"
      ]
     },
     "metadata": {},
     "output_type": "display_data"
    }
   ],
   "source": [
    "sns.histplot(arima.resid,bins=50) "
   ]
  },
  {
   "cell_type": "markdown",
   "id": "7f17b0b9",
   "metadata": {},
   "source": [
    "Residuals are not normally distributed."
   ]
  },
  {
   "cell_type": "markdown",
   "id": "bc537013",
   "metadata": {},
   "source": [
    "### 3 The mean of Residuals is zero"
   ]
  },
  {
   "cell_type": "code",
   "execution_count": 84,
   "id": "2cbe94e9",
   "metadata": {},
   "outputs": [
    {
     "data": {
      "text/plain": [
       "0.02581151052613414"
      ]
     },
     "execution_count": 84,
     "metadata": {},
     "output_type": "execute_result"
    }
   ],
   "source": [
    "arima.resid.mean()"
   ]
  },
  {
   "cell_type": "markdown",
   "id": "12bd80fe",
   "metadata": {},
   "source": [
    "Mean of residuals is very  close to zero but not zero"
   ]
  },
  {
   "cell_type": "markdown",
   "id": "e6e109dc",
   "metadata": {},
   "source": [
    "### 4 The residuals are uncorrelated , no juice in residuals left to be modelled"
   ]
  },
  {
   "cell_type": "markdown",
   "id": "fc184b58",
   "metadata": {},
   "source": [
    "To check: Ljung Box Test checks if the residuals are white noise or not wherein the null hypothesis states that Residuals are white noise.\n",
    "\n",
    "In our test results, p-value is 0.79 which is greater than 0.05. Therefore, we fail to reject the hypothesis that results are white noise."
   ]
  },
  {
   "cell_type": "code",
   "execution_count": 86,
   "id": "c2a12032",
   "metadata": {},
   "outputs": [
    {
     "data": {
      "text/html": [
       "<div>\n",
       "<style scoped>\n",
       "    .dataframe tbody tr th:only-of-type {\n",
       "        vertical-align: middle;\n",
       "    }\n",
       "\n",
       "    .dataframe tbody tr th {\n",
       "        vertical-align: top;\n",
       "    }\n",
       "\n",
       "    .dataframe thead th {\n",
       "        text-align: right;\n",
       "    }\n",
       "</style>\n",
       "<table border=\"1\" class=\"dataframe\">\n",
       "  <thead>\n",
       "    <tr style=\"text-align: right;\">\n",
       "      <th></th>\n",
       "      <th>Model Number</th>\n",
       "      <th>Model Name</th>\n",
       "      <th>MSE</th>\n",
       "      <th>MAPE</th>\n",
       "      <th>RMSE</th>\n",
       "      <th>MAE</th>\n",
       "    </tr>\n",
       "  </thead>\n",
       "  <tbody>\n",
       "    <tr>\n",
       "      <th>0</th>\n",
       "      <td>1</td>\n",
       "      <td>Naive Forecast</td>\n",
       "      <td>2855.672195</td>\n",
       "      <td>12.893819</td>\n",
       "      <td>53.43849</td>\n",
       "      <td>49.654098</td>\n",
       "    </tr>\n",
       "    <tr>\n",
       "      <th>1</th>\n",
       "      <td>2</td>\n",
       "      <td>Average Forecast</td>\n",
       "      <td>106435.39675</td>\n",
       "      <td>298.461451</td>\n",
       "      <td>326.244382</td>\n",
       "      <td>325.645903</td>\n",
       "    </tr>\n",
       "    <tr>\n",
       "      <th>2</th>\n",
       "      <td>3</td>\n",
       "      <td>Simple Exponential Smootheing</td>\n",
       "      <td>3218.404535</td>\n",
       "      <td>13.937424</td>\n",
       "      <td>56.730984</td>\n",
       "      <td>53.181405</td>\n",
       "    </tr>\n",
       "    <tr>\n",
       "      <th>3</th>\n",
       "      <td>4</td>\n",
       "      <td>Holts Exponential Smootheing</td>\n",
       "      <td>373.184496</td>\n",
       "      <td>3.340599</td>\n",
       "      <td>19.317984</td>\n",
       "      <td>15.415953</td>\n",
       "    </tr>\n",
       "    <tr>\n",
       "      <th>4</th>\n",
       "      <td>5</td>\n",
       "      <td>Holts Winter Exponential Smootheing</td>\n",
       "      <td>895.753003</td>\n",
       "      <td>4.734561</td>\n",
       "      <td>29.929133</td>\n",
       "      <td>22.97855</td>\n",
       "    </tr>\n",
       "    <tr>\n",
       "      <th>5</th>\n",
       "      <td>6</td>\n",
       "      <td>AR Model</td>\n",
       "      <td>176.5031</td>\n",
       "      <td>2.970111</td>\n",
       "      <td>13.285447</td>\n",
       "      <td>12.547147</td>\n",
       "    </tr>\n",
       "    <tr>\n",
       "      <th>6</th>\n",
       "      <td>7</td>\n",
       "      <td>MA Model</td>\n",
       "      <td>106097.216027</td>\n",
       "      <td>297.25837</td>\n",
       "      <td>325.725676</td>\n",
       "      <td>324.852688</td>\n",
       "    </tr>\n",
       "    <tr>\n",
       "      <th>7</th>\n",
       "      <td>8</td>\n",
       "      <td>MA Model</td>\n",
       "      <td>2864.789711</td>\n",
       "      <td>12.913473</td>\n",
       "      <td>53.52373</td>\n",
       "      <td>49.71793</td>\n",
       "    </tr>\n",
       "    <tr>\n",
       "      <th>8</th>\n",
       "      <td>9</td>\n",
       "      <td>ARIMA Model</td>\n",
       "      <td>2818.021097</td>\n",
       "      <td>12.776441</td>\n",
       "      <td>53.085036</td>\n",
       "      <td>49.250695</td>\n",
       "    </tr>\n",
       "  </tbody>\n",
       "</table>\n",
       "</div>"
      ],
      "text/plain": [
       "  Model Number                           Model Name            MSE  \\\n",
       "0            1                       Naive Forecast    2855.672195   \n",
       "1            2                     Average Forecast   106435.39675   \n",
       "2            3        Simple Exponential Smootheing    3218.404535   \n",
       "3            4         Holts Exponential Smootheing     373.184496   \n",
       "4            5  Holts Winter Exponential Smootheing     895.753003   \n",
       "5            6                             AR Model       176.5031   \n",
       "6            7                             MA Model  106097.216027   \n",
       "7            8                             MA Model    2864.789711   \n",
       "8            9                          ARIMA Model    2818.021097   \n",
       "\n",
       "         MAPE        RMSE         MAE  \n",
       "0   12.893819    53.43849   49.654098  \n",
       "1  298.461451  326.244382  325.645903  \n",
       "2   13.937424   56.730984   53.181405  \n",
       "3    3.340599   19.317984   15.415953  \n",
       "4    4.734561   29.929133    22.97855  \n",
       "5    2.970111   13.285447   12.547147  \n",
       "6   297.25837  325.725676  324.852688  \n",
       "7   12.913473    53.52373    49.71793  \n",
       "8   12.776441   53.085036   49.250695  "
      ]
     },
     "execution_count": 86,
     "metadata": {},
     "output_type": "execute_result"
    }
   ],
   "source": [
    "df_models"
   ]
  },
  {
   "cell_type": "markdown",
   "id": "66c63ce8",
   "metadata": {},
   "source": [
    "## Conclusion"
   ]
  },
  {
   "cell_type": "markdown",
   "id": "3ef90fdd",
   "metadata": {},
   "source": [
    "Among all the models Autoregression Model is performing better with an MAPE of 2.97% \n",
    "\n",
    "Amoung Heuristic Models Holts Exponential Smootheing model is better performing with an MAPE of 3.34%\n",
    "\n",
    "Result of AR model is better so we should use AR model"
   ]
  },
  {
   "cell_type": "markdown",
   "id": "4f65aa31",
   "metadata": {},
   "source": []
  }
 ],
 "metadata": {
  "kernelspec": {
   "display_name": "Python 3 (ipykernel)",
   "language": "python",
   "name": "python3"
  },
  "language_info": {
   "codemirror_mode": {
    "name": "ipython",
    "version": 3
   },
   "file_extension": ".py",
   "mimetype": "text/x-python",
   "name": "python",
   "nbconvert_exporter": "python",
   "pygments_lexer": "ipython3",
   "version": "3.9.12"
  },
  "varInspector": {
   "cols": {
    "lenName": 16,
    "lenType": 16,
    "lenVar": 40
   },
   "kernels_config": {
    "python": {
     "delete_cmd_postfix": "",
     "delete_cmd_prefix": "del ",
     "library": "var_list.py",
     "varRefreshCmd": "print(var_dic_list())"
    },
    "r": {
     "delete_cmd_postfix": ") ",
     "delete_cmd_prefix": "rm(",
     "library": "var_list.r",
     "varRefreshCmd": "cat(var_dic_list()) "
    }
   },
   "types_to_exclude": [
    "module",
    "function",
    "builtin_function_or_method",
    "instance",
    "_Feature"
   ],
   "window_display": false
  }
 },
 "nbformat": 4,
 "nbformat_minor": 5
}
